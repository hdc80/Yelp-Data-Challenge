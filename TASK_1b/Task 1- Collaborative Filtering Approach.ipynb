{
 "cells": [
  {
   "cell_type": "markdown",
   "metadata": {},
   "source": [
    "# Recommend Business to Users - Algorithm 2"
   ]
  },
  {
   "cell_type": "markdown",
   "metadata": {},
   "source": [
    "### Here we utilize different collaborative filtering techniques to recommend business to users. For evaluation and comparison of the different approaches we use RMSE as we are predicting the user's rating for a particular resturant based on his historical rating data. Let's start with item-item based filtering. "
   ]
  },
  {
   "cell_type": "markdown",
   "metadata": {},
   "source": [
    "###### Note referred cambridgespark article on collaborative filtering"
   ]
  },
  {
   "cell_type": "code",
   "execution_count": 1,
   "metadata": {
    "collapsed": true
   },
   "outputs": [],
   "source": [
    "import pandas as pd\n",
    "import numpy as np\n",
    "from sklearn.metrics.pairwise import pairwise_distances as pdist\n",
    "from sklearn import cross_validation as cv\n",
    "from sklearn.metrics import mean_squared_error\n",
    "from math import sqrt"
   ]
  },
  {
   "cell_type": "code",
   "execution_count": 2,
   "metadata": {
    "collapsed": true
   },
   "outputs": [],
   "source": [
    "# Read the input data frame\n",
    "df = pd.read_csv('20PlusReviews_Excluding_Rare_Biz_Users.csv')"
   ]
  },
  {
   "cell_type": "code",
   "execution_count": 3,
   "metadata": {
    "collapsed": false
   },
   "outputs": [
    {
     "data": {
      "text/html": [
       "<div>\n",
       "<table border=\"1\" class=\"dataframe\">\n",
       "  <thead>\n",
       "    <tr style=\"text-align: right;\">\n",
       "      <th></th>\n",
       "      <th>Business Id</th>\n",
       "      <th>User Id</th>\n",
       "      <th>Review Id</th>\n",
       "      <th>User_Stars</th>\n",
       "      <th>Text_encoded</th>\n",
       "      <th>Business_Stars</th>\n",
       "      <th>Useful</th>\n",
       "      <th>Funny</th>\n",
       "      <th>Cool</th>\n",
       "    </tr>\n",
       "  </thead>\n",
       "  <tbody>\n",
       "    <tr>\n",
       "      <th>0</th>\n",
       "      <td>dKdApYVFDSNYsNOso6NYlA</td>\n",
       "      <td>bLbSNkLggFnqwNNzzq-Ijw</td>\n",
       "      <td>LwszgYoywAhMaIdt3zPgug</td>\n",
       "      <td>4</td>\n",
       "      <td>Crave those crazy squares!! Not breakfast cere...</td>\n",
       "      <td>3.0</td>\n",
       "      <td>10</td>\n",
       "      <td>9</td>\n",
       "      <td>10</td>\n",
       "    </tr>\n",
       "    <tr>\n",
       "      <th>1</th>\n",
       "      <td>dKdApYVFDSNYsNOso6NYlA</td>\n",
       "      <td>w0Yyvns5BCIL5s_7JuFrug</td>\n",
       "      <td>wxKpyfSQPMGNHSKWFFIbDQ</td>\n",
       "      <td>3</td>\n",
       "      <td>Well, White Castle kind of is what it is... I ...</td>\n",
       "      <td>3.0</td>\n",
       "      <td>8</td>\n",
       "      <td>2</td>\n",
       "      <td>2</td>\n",
       "    </tr>\n",
       "    <tr>\n",
       "      <th>2</th>\n",
       "      <td>dKdApYVFDSNYsNOso6NYlA</td>\n",
       "      <td>VYOQLKuR0Ugy9lU-QiOuLw</td>\n",
       "      <td>kTdvdp0dFu2Q4hAO4hk2Dw</td>\n",
       "      <td>4</td>\n",
       "      <td>Located inside the Casino Royale Hotel &amp; Casin...</td>\n",
       "      <td>3.0</td>\n",
       "      <td>0</td>\n",
       "      <td>0</td>\n",
       "      <td>0</td>\n",
       "    </tr>\n",
       "    <tr>\n",
       "      <th>3</th>\n",
       "      <td>dKdApYVFDSNYsNOso6NYlA</td>\n",
       "      <td>qlaVQkSxKcqfHJhoZU3rKg</td>\n",
       "      <td>hwEz-5l4BP5nYoGZD9xDrg</td>\n",
       "      <td>2</td>\n",
       "      <td>What a disappointment!  I was really looking f...</td>\n",
       "      <td>3.0</td>\n",
       "      <td>1</td>\n",
       "      <td>2</td>\n",
       "      <td>1</td>\n",
       "    </tr>\n",
       "    <tr>\n",
       "      <th>4</th>\n",
       "      <td>dKdApYVFDSNYsNOso6NYlA</td>\n",
       "      <td>8OeTLey-p-WaL9ErNEci1Q</td>\n",
       "      <td>s2MW1ToXDIsD-WcdV__dPQ</td>\n",
       "      <td>2</td>\n",
       "      <td>I am being generous with 2 stars.\\\\nSo disappo...</td>\n",
       "      <td>3.0</td>\n",
       "      <td>5</td>\n",
       "      <td>9</td>\n",
       "      <td>5</td>\n",
       "    </tr>\n",
       "  </tbody>\n",
       "</table>\n",
       "</div>"
      ],
      "text/plain": [
       "              Business Id                 User Id               Review Id  \\\n",
       "0  dKdApYVFDSNYsNOso6NYlA  bLbSNkLggFnqwNNzzq-Ijw  LwszgYoywAhMaIdt3zPgug   \n",
       "1  dKdApYVFDSNYsNOso6NYlA  w0Yyvns5BCIL5s_7JuFrug  wxKpyfSQPMGNHSKWFFIbDQ   \n",
       "2  dKdApYVFDSNYsNOso6NYlA  VYOQLKuR0Ugy9lU-QiOuLw  kTdvdp0dFu2Q4hAO4hk2Dw   \n",
       "3  dKdApYVFDSNYsNOso6NYlA  qlaVQkSxKcqfHJhoZU3rKg  hwEz-5l4BP5nYoGZD9xDrg   \n",
       "4  dKdApYVFDSNYsNOso6NYlA  8OeTLey-p-WaL9ErNEci1Q  s2MW1ToXDIsD-WcdV__dPQ   \n",
       "\n",
       "   User_Stars                                       Text_encoded  \\\n",
       "0           4  Crave those crazy squares!! Not breakfast cere...   \n",
       "1           3  Well, White Castle kind of is what it is... I ...   \n",
       "2           4  Located inside the Casino Royale Hotel & Casin...   \n",
       "3           2  What a disappointment!  I was really looking f...   \n",
       "4           2  I am being generous with 2 stars.\\\\nSo disappo...   \n",
       "\n",
       "   Business_Stars  Useful  Funny  Cool  \n",
       "0             3.0      10      9    10  \n",
       "1             3.0       8      2     2  \n",
       "2             3.0       0      0     0  \n",
       "3             3.0       1      2     1  \n",
       "4             3.0       5      9     5  "
      ]
     },
     "execution_count": 3,
     "metadata": {},
     "output_type": "execute_result"
    }
   ],
   "source": [
    "df.head()"
   ]
  },
  {
   "cell_type": "code",
   "execution_count": 4,
   "metadata": {
    "collapsed": false
   },
   "outputs": [],
   "source": [
    "# Extract only the User, Business and Rating columns\n",
    "df = df[['User Id', 'Business Id', 'User_Stars']]\n",
    "df.rename(columns={'User Id': 'user_id', 'Business Id': 'business_id', 'User_Stars' : 'stars'}, inplace=True)\n"
   ]
  },
  {
   "cell_type": "code",
   "execution_count": 5,
   "metadata": {
    "collapsed": false
   },
   "outputs": [
    {
     "name": "stdout",
     "output_type": "stream",
     "text": [
      "Number of users = 3002 | Number of business = 4087\n"
     ]
    }
   ],
   "source": [
    "# Check the number of users and businesses\n",
    "users = df.user_id.unique().shape[0]\n",
    "business = df.business_id.unique().shape[0]\n",
    "print ('Number of users = ' + str(users) + ' | Number of business = ' + str(business))"
   ]
  },
  {
   "cell_type": "code",
   "execution_count": 6,
   "metadata": {
    "collapsed": false
   },
   "outputs": [
    {
     "name": "stdout",
     "output_type": "stream",
     "text": [
      "The sparsity level of this data is 98.7%\n"
     ]
    }
   ],
   "source": [
    "sparsity=round(1.0-len(df)/float(users*business),3)\n",
    "print ('The sparsity level of this data is ' +  str(sparsity*100) + '%')"
   ]
  },
  {
   "cell_type": "code",
   "execution_count": 7,
   "metadata": {
    "collapsed": false
   },
   "outputs": [],
   "source": [
    "#Get the business user rating table\n",
    "rating_table = df[['user_id', 'business_id', 'stars']]\n",
    "rating_table_df = rating_table.pivot_table(index='user_id', columns='business_id', values='stars')"
   ]
  },
  {
   "cell_type": "code",
   "execution_count": 8,
   "metadata": {
    "collapsed": false
   },
   "outputs": [
    {
     "data": {
      "text/plain": [
       "pandas.core.frame.DataFrame"
      ]
     },
     "execution_count": 8,
     "metadata": {},
     "output_type": "execute_result"
    }
   ],
   "source": [
    "type(rating_table_df)"
   ]
  },
  {
   "cell_type": "code",
   "execution_count": 9,
   "metadata": {
    "collapsed": false
   },
   "outputs": [
    {
     "data": {
      "text/plain": [
       "['--9e1ONYQuAa-CB_Rrw7Tw',\n",
       " '-1vfRrlnNnNJ5boOVghMPA',\n",
       " '-3zffZUHoY8bQjGfPSoBKQ',\n",
       " '-8R_-EkGpUhBk55K9Dd4mg',\n",
       " '-9YyInW1wapzdNZrhQJ9dg',\n",
       " '-AD5PiuJHgdUcAK-Vxao2A',\n",
       " '-BS4aZAQm9u41YnB9MUASA',\n",
       " '-Bf8BQ3yMk8U2f45r2DRKw',\n",
       " '-BmqghX1sv7sgsxOIS2yAg',\n",
       " '-Bv-HHUs8aHzDrdWcZHn8w',\n",
       " '-C8sSrFqaCxp51pyo-fQLQ',\n",
       " '-CQokjildrY7UZezXCdEBw',\n",
       " '-CbDQXiuKzPQ0_jiUz03aw',\n",
       " '-FNquqGseSCVMWo7KbK-Tg',\n",
       " '-FcZY7a7qgxTUlTvwuyJnQ',\n",
       " '-G7MPSNBpxRJmtrJxdwt7A',\n",
       " '-IWsoxH7mLJTTpU5MmWY4w',\n",
       " '-JFVxwdVQfX207554dx1nw',\n",
       " '-JfncbVURtvuzBbof40o1w',\n",
       " '-K82LBrI3H0FVuhTbNDpRA',\n",
       " '-LMycE26AortJDsbc8oXOg',\n",
       " '-Le6cwbZL4tDZwNHwipfKg',\n",
       " '-LzUYsR54hd8cCiYXTquRA',\n",
       " '-N_agk8RUHvHk3GVDsyunQ',\n",
       " '-NjZ5HZApXjRJaTVZeSO_w',\n",
       " '-OEIW0dO96-492qa_luxaw',\n",
       " '-P8dGzSVhJi-5oZ-8U2y0w',\n",
       " '-PGsEXB6DFTVKa1eDOlzWA',\n",
       " '-PbM4ksxhGZVpgCpRakcgA',\n",
       " '-QNQ4R1VgRoL4b6lC8Anrg',\n",
       " '-Qkx7W0itbAApcG5lJuMFQ',\n",
       " '-RJ216TTIghZshCkUlD1WQ',\n",
       " '-U7tvCtaraTQ9b0zBhpBMA',\n",
       " '-Uix-n4Jqo4W7ERagC5qAA',\n",
       " '-WLrZPzjKfrftLWaCi1QZQ',\n",
       " '-YCd2_DdJUeZx3RRcmIZ_g',\n",
       " '-YWr1wm_NaAlgEf9TZzsMQ',\n",
       " '-Ylpy3VyRWwubf9dysuwjQ',\n",
       " '-_TSaVr53qiEGqMkwyEMaQ',\n",
       " '-_yEVC3_3M6YOsamYfNFEw',\n",
       " '-a857YYdjzgOdOjFFRsRXQ',\n",
       " '-cxD1NimFldATDUsN-oa3A',\n",
       " '-dGORHtjPRnQzTZ2-SYa_g',\n",
       " '-ed0Yc9on37RoIoG2ZgxBA',\n",
       " '-hzQQ8tbXThpp0k5E_y1Dw',\n",
       " '-iFvYhgysvjkxckCr42NRw',\n",
       " '-ilCufjKjeswCLyIrCtuqQ',\n",
       " '-kbPPBNsIPDfMfgUGO7QhA',\n",
       " '-leM8v_oCbtzTthTln-YHg',\n",
       " '-mN7z9oY01Mh_-dwTyzpqg',\n",
       " '-n8PaipyFGNUJE4xlnrOAg',\n",
       " '-oUM2uISux96lMGeawHIOA',\n",
       " '-pGO9M4JLQJHiaCOrqCgbQ',\n",
       " '-sN_og_84rLW22CaE3cjVw',\n",
       " '-tseCGdDvepLP8IIWtZikQ',\n",
       " '-uRn5Hf1uo4vf3UTtOvIfA',\n",
       " '-wCtRhzWJ40Z4F8mmg7kWg',\n",
       " '-wDNRL4lm1UgeFLG9KcrjQ',\n",
       " '-xbQQR_ydEJGqYzHSF4DnQ',\n",
       " '005XmZKuJZuNbl5tGXc5SA',\n",
       " '01Ov9eDxKRY5k6ImMdiWLQ',\n",
       " '01SiPgdiOskMC5bUJoyy_g',\n",
       " '01VPJkcU0m8WzlA7dCEpVQ',\n",
       " '02pL_Xj3sTO_lHcWqUcwKA',\n",
       " '03Yt7kMeYihN_y6ptiXxyQ',\n",
       " '03hgFWEcDg205hOCnswwiQ',\n",
       " '03icrim6SfEQJlejDMbzsA',\n",
       " '065c76tt1dXBNmoGBymUgQ',\n",
       " '06MlxbtB4ZYeg_ri02RIAQ',\n",
       " '07AZL5XenCQ_-op_onKLdw',\n",
       " '07gh-AImcEcWQ2bew-jprg',\n",
       " '07jQarxKd_8J_AJHD5YBqQ',\n",
       " '0AQnRQw34IQW9-1gJkYnMA',\n",
       " '0AZCpDQpbi83NHh9uEpggQ',\n",
       " '0CB7YB1qRSWLQvMbHw3Fmw',\n",
       " '0EgYXYjt2XJL4hlsKnzrcw',\n",
       " '0EpnzIpeFvhISkxMTIv9WA',\n",
       " '0FHfkDxKSeDuyAEeaY6X-Q',\n",
       " '0G1y7uV7w1D2uziS4Lt_Dw',\n",
       " '0HG02r8ri7GEFwuwmdHCyg',\n",
       " '0Hcks5q-DgJbDlmEWolx4A',\n",
       " '0IbboCQAEQlROAv5PKKO_Q',\n",
       " '0If0W5y2M__8j0Xjlwuk0g',\n",
       " '0IjBFHFm8M-VPyym-Xrkhw',\n",
       " '0InA3Ffj8MxyQV9hgsyYcQ',\n",
       " '0LGnU7V3nepi8NUNzyQOXw',\n",
       " '0M7rIhQLKD-j2XSnKgt2ng',\n",
       " '0Nb4piKDUVbedlrakwEUuw',\n",
       " '0NmTwqYEQiKErDv4a55obg',\n",
       " '0OdZXIKQypu6vplpxFilsA',\n",
       " '0QHMAUi6NdOUZ1ckXq0-sA',\n",
       " '0QSnurP5Ibor2zepJmEIlw',\n",
       " '0S2fiheNzQLDSCs89Kmgnw',\n",
       " '0S4WFZJZhVeM3aAqKjLz1w',\n",
       " '0TljdWRIDQzlp4siHQ_BAQ',\n",
       " '0VjHFdczi6Nln_nn8bucJQ',\n",
       " '0WPXDs4ini3D7jpiy1Daqw',\n",
       " '0WoQQlMXVIDEgI0xNdENKA',\n",
       " '0XEqyl_lVaJNHRKxNcjJZg',\n",
       " '0YG_kM5caZhtwd6nbnei6A',\n",
       " '0YctfylXsdutJo8qFYnZJA',\n",
       " '0_VT3sTwi7gorIlU36ASmg',\n",
       " '0_aeYE2-VbsZts_UpILgDw',\n",
       " '0_mJttUgHIzC-NO18gcgBA',\n",
       " '0ahghcpWQVkm4lEFwx-peA',\n",
       " '0aw3HbxkZ4G7pkPYt10fhA',\n",
       " '0bWLkWeIcT-EnrE7SiGEBA',\n",
       " '0c6PQILCLwRZ8FIB4AEsGw',\n",
       " '0d0i0FaJq1GIeW1rS2D-5w',\n",
       " '0dr1FgqQSEMbaTu9SDqiIg',\n",
       " '0eJG77JOkyMIBhc4Xbuqfw',\n",
       " '0eZHVYDyACtVVOIgoBlV3g',\n",
       " '0gTTGuA6uEmMhLhfJi0hqA',\n",
       " '0i9S0BejjRv0ZDwdO9XymA',\n",
       " '0ifI4JjTKcgfBSQiAnMmsQ',\n",
       " '0jJfQEWEe-6ODl62XSynDw',\n",
       " '0jlnQNrXQ5Ltv-9HKx6l9A',\n",
       " '0jtRI7hVMpQHpUVtUy4ITw',\n",
       " '0keht9nVTliinChbGWWkkg',\n",
       " '0lxyY2bwmpde2QHcnh8fZQ',\n",
       " '0nlocywsFHQmEt8_xbHNiw',\n",
       " '0odAupWjDV8gwhaLqyh1-A',\n",
       " '0p27EjcNwTI7Ey4K_MNPww',\n",
       " '0qPNeqLuKE88rKbIbSZDpg',\n",
       " '0q_BHpxbikVtPRRLRu-U0g',\n",
       " '0qet57CmMA5qUm6gPFUTpg',\n",
       " '0rk2_lmbfpiYXGBFmyxx9Q',\n",
       " '0tnZj3GkhKxPd9hT3HXt5A',\n",
       " '0uR48n5SYcLE_DLcjONZPg',\n",
       " '0ueq5zB3NqLbh93KYYNIHQ',\n",
       " '0uzQymPVW2l24rpjX9KIBA',\n",
       " '0w3BdEOxvwKTpypwbN5kiQ',\n",
       " '0wW9PasC8pw8SY7rlY3ZKw',\n",
       " '0xdpv5CPpbUUch7JKBG98Q',\n",
       " '0xtBEP5zCu1153SoqqemLw',\n",
       " '0xvdC8F0HmFpAFkJk6nXLg',\n",
       " '0xzmIBsJQc5eUNLucFrZ0Q',\n",
       " '0ydy2fdDg6kpGy1dbnHYsQ',\n",
       " '0yjLZZx708uJbierAonqQg',\n",
       " '0zb1wdN4YN_ti87B_JIseg',\n",
       " '0zoXYHq82haayMaV952jEQ',\n",
       " '1-Jdq5Up9SgKoqptGvkXHA',\n",
       " '12P7GjIoq6oj7qCyJ_c0Ag',\n",
       " '12f7GOkkC0GZRMif-fidhQ',\n",
       " '16Fplxu-OwVmTEFxQAUP4g',\n",
       " '16NS8EICI94IGdn-S0yxkw',\n",
       " '16tWXenJ1wTqugXJU7yiZg',\n",
       " '19S0gFtg5GTX6CkiApJiAQ',\n",
       " '19lr9xcN3Ud0w0UX7bl6Qw',\n",
       " '19umlhmVB9O3njIBfRAe8g',\n",
       " '19wIOjBlI_2EKGM8E4O6Mg',\n",
       " '1CP8aJa8ILlfM5deroar0Q',\n",
       " '1CR2ddUcjYYwRd5JLtiRrw',\n",
       " '1CTapYK3FHvpiJaQhOaaIw',\n",
       " '1CWMNSTRMejdSyXBG2chNg',\n",
       " '1DP5vHxJzCDbgawv0WC3yA',\n",
       " '1Df5WnLX3DqN6ymlhqznaQ',\n",
       " '1FAvxOUOGGyZoYNlAXACag',\n",
       " '1Fa_brd85F_-gXYP45GpsA',\n",
       " '1JgaRBX0oiRsvEhHF3ZMjw',\n",
       " '1KhBzrqmU164bss64jR5uA',\n",
       " '1LOr_-vGiVMNod08H9T-1w',\n",
       " '1M1A-s6BbnzK3eURw01rZQ',\n",
       " '1ME-zOtZ9HApzJUOpR0-vQ',\n",
       " '1MrSwj8i2VEBHdp3IsWCpQ',\n",
       " '1NZNZHnGE4-FLZmU6xp3oQ',\n",
       " '1SCETxRnwaYo2aBC3fi4SA',\n",
       " '1SE9f6TEV5XhnTuuK01xwA',\n",
       " '1SqLPgnZEVeVYDM-AuoFhg',\n",
       " '1Tak6Q-IlkDrdmLwrEZeSg',\n",
       " '1UdRVfBlE3unETOu7BDCvw',\n",
       " '1UvrUFk3BXAmueL1KQaKPQ',\n",
       " '1V-mRUpVnIRq6GYymT_uyw',\n",
       " '1VTezD8PLosh-FeNxSRQ7g',\n",
       " '1Vvxx-9AoINg8TJXOZgEHg',\n",
       " '1WBVqmo7tgF0z0eGf4fPhQ',\n",
       " '1WsXLCPRP2EZ9KoBRTkSbw',\n",
       " '1XeI5PX5RxvFlaAHBKRUYA',\n",
       " '1Z5S_Lkcl6vA3ZvrAG91TA',\n",
       " '1ZJz840L496LAmQdeDv0WA',\n",
       " '1ZhZUzFbbt1gGXDEW3JaBw',\n",
       " '1ZnVfS-qP19upP_fwOhZsA',\n",
       " '1_eNhr53_bTPy11vvVL4Hw',\n",
       " '1aGNx-7cTXIeBCMVM8X0TQ',\n",
       " '1aMxCG33wAoxjWoeRsl4BA',\n",
       " '1aj4TG0eFq6NaPBKk6bK7Q',\n",
       " '1bALsE6aZE23mGV2WPxN_g',\n",
       " '1diuAK7FMn93WxlK-ndJhA',\n",
       " '1g29d62cEojB-7mX7p8AzQ',\n",
       " '1g47zyA_utx8mpgmtLc6tg',\n",
       " '1gjhtfYxlN-0xjS9Xdh66g',\n",
       " '1jpYP-JNOEYCMIzP4OlGuQ',\n",
       " '1kHr1RTkm_J-dfrq-HPBug',\n",
       " '1nM-ES-xVqL0yQGTCwtd-Q',\n",
       " '1qTx9z8RMz7RIYKAfnpZ0A',\n",
       " '1skTxDMBQSpElbLfhBgmVQ',\n",
       " '1tV2_4oHJTUB9ZFJfOgowA',\n",
       " '1uDUisf3ro5V3vC60cxfFw',\n",
       " '20P1JukOLfR023mnrDeXlw',\n",
       " '217u7Wad7y90x4el26-TIw',\n",
       " '21sGRVR7HEs_t6PdB9tGMw',\n",
       " '24wnyPyir6-Bmv6zq7OXHg',\n",
       " '25PEf9-e8_7phdV7JjOHhA',\n",
       " '25wTaO0_Rk-GLb4k2uMs0Q',\n",
       " '296PZdxSrtH08EUwCsOKMw',\n",
       " '2B46bRpDh49eDyjXGhL_ZQ',\n",
       " '2BHReLgbinzeO7rYuxWZ8Q',\n",
       " '2BbFeotL85cIaBjSq1SWiA',\n",
       " '2DydwQRkIutHarWT_o1L0Q',\n",
       " '2GzQ1Cc7eDWhKrqNAR1kAA',\n",
       " '2HxaDXZmAOH6LiuzGgNdPA',\n",
       " '2I_qSTehoUFsDNjaqCVxlA',\n",
       " '2IvrdAb6zdxr3ZqplqJHbg',\n",
       " '2LL-pWxdM_rvnaIpNxezsQ',\n",
       " '2LNnIARy-lGmrlEMZSxZ1w',\n",
       " '2LZGeJy8qByYKB71ML-jcw',\n",
       " '2Mp53KxlGeZJkodTuqpVow',\n",
       " '2O_b-IAAW7SoPt__RX1Kww',\n",
       " '2PS9kBbuJcmBhcNp-D62uA',\n",
       " '2Q9Mgkc7iFHuKoD_z7kJkQ',\n",
       " '2QznyHGF0PuiYkrl5RU66A',\n",
       " '2RFe9vDTzyBkF4mvsFDDow',\n",
       " '2SfSzEd3B7WimeZac23zhg',\n",
       " '2WiMyg8-DoXQ8_R5qFc2iQ',\n",
       " '2Wl4o7l54I-EtxtaDpOTzA',\n",
       " '2Xc6cpbFM6bqKkgz6bV9kQ',\n",
       " '2XkVexeY_8zyc9nriSElQg',\n",
       " '2Y0-nrSZNsLRStyupZgM7g',\n",
       " '2Y7voMZLcJ4YYC8_UjEuPg',\n",
       " '2YBO1LEKIgyle0uX50u15Q',\n",
       " '2bK1ng2mnRdtTh_BDNGmIg',\n",
       " '2bSyNMam79SlwiHwQD6RGg',\n",
       " '2dCnTMv3Hh-fM8bOjYS4Xw',\n",
       " '2dUXkonsAdoXKAalTnmlig',\n",
       " '2g_auUWw7c3c2CUTgVqI8Q',\n",
       " '2hG6jS5v3Jj5SyYLBkouyA',\n",
       " '2hSIeCX2cV-chFcBBXrZZA',\n",
       " '2hyciWHsqnbqdEkUvO3KuQ',\n",
       " '2iTsRqUsPGRH1li1WVRvKQ',\n",
       " '2ivGlp_mVzwFaPjatAERXg',\n",
       " '2k01kgbLdNV9b19GrOqdNA',\n",
       " '2lPLbTenaBH3SGHgpwM54A',\n",
       " '2m4092MsMzEHkuxodaj6-g',\n",
       " '2mfBO8iZ5E_ULmcxEXqOrw',\n",
       " '2pTq2dbPsSQwQJWUH5tE-w',\n",
       " '2reHgsuAWofHfocfJ4Xs5w',\n",
       " '2rvBPUBtQU0WfcOAHLQWRQ',\n",
       " '2sdU3Fq3Wv2XQycJoJQArg',\n",
       " '2sx52lDoiEtef7xgPCaoBw',\n",
       " '2vr2yGIzSehe_ITFamNpyw',\n",
       " '2weQS-RnoOBhb1KsHKyoSQ',\n",
       " '2xbxXWeu3tpZEJdGTTGbLg',\n",
       " '3-Bm90nXNtwLFyDtlj9olQ',\n",
       " '3-dR6RJvTHdkZEHMmB8OeQ',\n",
       " '30TxDt2V8G7FWXsKaEKA9A',\n",
       " '310Eyru1zsZ9K7BA-bgPQw',\n",
       " '31cOttU_tML5b6eLLXZfsQ',\n",
       " '32JWhoH-Kiu1wRFTvHvW9Q',\n",
       " '32u4chtkG4fIa52396iOhw',\n",
       " '33Tr0eRki1Yamzleu4GMdw',\n",
       " '34PMhyoSQHVd4Lr7slzUcA',\n",
       " '35fWtS1LZkaZ-ooKupJ1XA',\n",
       " '364hhL5st0LV16UcBHRJ3A',\n",
       " '36ckWelVitpgX16g7lecqA',\n",
       " '38YPE4KCvgChy9y6FcksEQ',\n",
       " '39BNnMLzx0UUwkWKxGeQKA',\n",
       " '39rjgt5MpEACNzyFnUmyaQ',\n",
       " '3A_NZZNHG5dxeZmO-ije2Q',\n",
       " '3BAcvsVdl3-rKk8pzw7ZKw',\n",
       " '3BCsAgo_1i4xMuTyLKMLRQ',\n",
       " '3CxiP8n7DAL-YOOTCW2wNw',\n",
       " '3FlWR_osNPb8dcqLgHebHw',\n",
       " '3GEEy7RP6e4bT4LAiWFMFQ',\n",
       " '3GfdCuI0YCc5U3rLLLPHUw',\n",
       " '3Gt3xskppi9jZuTrwrhLNg',\n",
       " '3Gw8YcAjo3AcMbtbX1TGSA',\n",
       " '3I4I9C5VN3NIkU1K0Mc01w',\n",
       " '3IwCop28R1_L5jMv6AkL8Q',\n",
       " '3Jq5LfJ5fmJ5KmuA6VHmzw',\n",
       " '3LQhD2j97GuVIDAciQzX2Q',\n",
       " '3LWsVfsSmb_Nzbi2YQ-NIA',\n",
       " '3QcTqsdxQBlSndBdMJBRhQ',\n",
       " '3QzPhQ3ltbon0-1gC7Q18Q',\n",
       " '3RiFtEJ6AAvS0x_z38HChw',\n",
       " '3TRgD3KLVis61eGvMZrykA',\n",
       " '3WRvQJS9GIBubGxbHMzX2g',\n",
       " '3X-SMnyYq77IYEnyCp-TtQ',\n",
       " '3XE-poXz9CeDao-Q7pqkTw',\n",
       " '3YV-GLtQLI3sbZDZ-0NN4Q',\n",
       " '3ZHyw0d8mk0HOEP7v4fW1A',\n",
       " '3aKRYHFXMjKiaSAsVH4qiw',\n",
       " '3ajqOW9A7VhResA08I7RTg',\n",
       " '3c6U5CdxsN_6Gpc6dqTylg',\n",
       " '3cHL1r5w2oLYH-veijtweA',\n",
       " '3cg4pKBL8DTFXCtZ5y9V4g',\n",
       " '3dC3opMY67zrquz_yYc-tw',\n",
       " '3fPIRTnBhd81MixgS9YoMQ',\n",
       " '3h5jLa-kbHg0cL7v9En0Lg',\n",
       " '3j_mvJHnT7nJd7su_7zazw',\n",
       " '3kdSl5mo9dWC4clrQjEDGg',\n",
       " '3lRFcrfR3IrSAQJtrnn80A',\n",
       " '3m2XZFVraCiqjgLxHi5MdA',\n",
       " '3nf-a84p8LC41_WAIvJPjg',\n",
       " '3p0SYIaMbJ8j-yeK_do5Qg',\n",
       " '3p7mUvZtYocYf8gYEENGxw',\n",
       " '3pGA9YGsDLRQ7HJLw5cwcQ',\n",
       " '3pSUr_cdrphurO6m1HMP9A',\n",
       " '3qIFv-MbDoj-gDigpo_FgA',\n",
       " '3rj1qpgFvkRWtAka17mhEQ',\n",
       " '3rkxTx8DoZSl7_FryhXCVQ',\n",
       " '3sPSc8NBvrkXi7scpRYDLg',\n",
       " '3sXlZWM9B72_r-dYBIgmyg',\n",
       " '3uC7Lbc3RgUDTWQlBu4PqQ',\n",
       " '3vxIqhm2jCVjkUWtmDvTsw',\n",
       " '3weo8OctYcKoS_AV9OrOgw',\n",
       " '409qhf4RF0rlxcuaM576Qg',\n",
       " '41Kbugm-qmIQTt7unkALYQ',\n",
       " '41WfL6MGTAXYgRQfNT3dyA',\n",
       " '41b2SLmjLcxTGLVRxASiDA',\n",
       " '42yLya7lhe7TQGz3KEdKAw',\n",
       " '44kd3YdkhXj5XiSPs5XNjQ',\n",
       " '44xBONbuMSghULXXEnl-Lw',\n",
       " '45513UgSlMqWV_yAPVkXrg',\n",
       " '45m_xaD3A1saWNjVDahECQ',\n",
       " '46JVW4pwLDRIye4gYJboSw',\n",
       " '46UHF46E1z-W2dOmhv-Fng',\n",
       " '499ugPqwBhr-EQYnCuFC0A',\n",
       " '4Azs1HUqi0Nk6s6xB_9jsQ',\n",
       " '4BQLF2KNjAzIkK0gDXJK6g',\n",
       " '4Bw9XffSa0AMy2SrNCS2KA',\n",
       " '4E309lwPu65lXyaeuLRETQ',\n",
       " '4EfiNcKSsafogIhAjwv0gg',\n",
       " '4GXII-GU7S0ZyU6ElkhscQ',\n",
       " '4Hx-brYb86k4C1VSKPvj7g',\n",
       " '4I4OoW0tbaoG4I4D2spF3w',\n",
       " '4JNXUYY8wbaaDmk3BPzlWw',\n",
       " '4JkGjRRc3XucG9U8XwthGg',\n",
       " '4KmrrhtfnngTVFa2d5LAjg',\n",
       " '4L3VJwVqUareUUIGPE2zcw',\n",
       " '4Nj2ktP2NjCbv2aKeH3ZBg',\n",
       " '4NxIM5xpIEem1IkEkz2I7Q',\n",
       " '4Odbtgh9g8XUKorRg7MTHg',\n",
       " '4OeBE57Hs4WMLOTtT32d1Q',\n",
       " '4Pb7SlTK89uSdqOwMNM35A',\n",
       " '4QmwJBk9VPKyO2DfUeIVWg',\n",
       " '4UmjnX46qbhV6-D5W89IOQ',\n",
       " '4VXIS8vpNzEysXZVN5xGDA',\n",
       " '4VjrVv-PBuG-al5JnUUIGg',\n",
       " '4VkLiFoIEjTTpbCRgxjnCQ',\n",
       " '4Wou6LarHqefHP21qRu0Ag',\n",
       " '4X0KWUPcD2EkHN83aa4cXg',\n",
       " '4aAf2nAr86lcDHzqWSaYuQ',\n",
       " '4bqbAhYZQeokD3zqN77XLA',\n",
       " '4cDWyZa6EqsY4XSWwLY7RA',\n",
       " '4hG2j_ibsNblDgqei05U_g',\n",
       " '4iLbq_AUiWtsSKHFpG5cbQ',\n",
       " '4k3RlMAMd46DZ_JyZU0lMg',\n",
       " '4l1cmNrXBOLVUJR29MDp3A',\n",
       " '4lKF-M_3OLsk1usLPDJEFA',\n",
       " '4mYPOzBokDgz307TW2EIKw',\n",
       " '4mb32UmQULqg7IMck28vog',\n",
       " '4oC1z2SDrpraoZzRIQ-WsA',\n",
       " '4oeqftAA2w9rcffOFaxFLA',\n",
       " '4pxK5njPxYHFp7IMEch1Bw',\n",
       " '4qG3Gh8QyugC1XvoTlmgcQ',\n",
       " '4s_kb5VXnx96fEJLZ_AkIQ',\n",
       " '4tWF2w6jP2LNK2xTVNEMFw',\n",
       " '4tiFtmGNFcvKRSPXPVT8Hw',\n",
       " '4uISbaUPJLVECBHIi3tpxA',\n",
       " '4uMs5UbtIAaHhuKQlQhXEQ',\n",
       " '4ugJ4F8jDJ9-2dEiZ47wLg',\n",
       " '4uiijOUDzc-DeIb2XcKW_A',\n",
       " '4v5ZLpmNn13Mze1w_XfWHw',\n",
       " '4vm2W7J_ztH0vcX4bKfuXw',\n",
       " '4vwhK3Uxlp2gBtQuP78NOA',\n",
       " '4xioa5IWUTYEepxCiqRMtw',\n",
       " '4yAvytbVKHqSYAo3mkI9OA',\n",
       " '522GgMvOvzaKCEX6BfAtvg',\n",
       " '54LYVM1gCGQ2UVFK9QhgTw',\n",
       " '54WM5coZonA0izd2y04p_A',\n",
       " '56Ll9rqG2WxXj4X2pmlkHQ',\n",
       " '59YbAeuiz0isJtRNKATTKw',\n",
       " '5CJL_2-XwCGBmOav4mFdYg',\n",
       " '5CJOaZc8Muu8WothauxQ4g',\n",
       " '5D3cAYturwbEqnj52b1Tmw',\n",
       " '5Dccw539NNtnyCgTu5ed5A',\n",
       " '5EIuCcoHY2evAhFMBV6G6g',\n",
       " '5FiuxRWs-indyk2Y9imkSg',\n",
       " '5JY1b7iEWEQTAofZDS6EeQ',\n",
       " '5JjGTaZkHbbjBrzBODcsAQ',\n",
       " '5JxlZaqCnk1MnbgRirs40Q',\n",
       " '5Lcit9Zt6TF9bmKoFMhF0g',\n",
       " '5MlgZwfmaegOL7_FJ3b7lA',\n",
       " '5MnLa1nE606cvNGlSFt01Q',\n",
       " '5Mp-PD_CUaPoJr6CP-WBdA',\n",
       " '5O7qB4gNmr3NgdYAuYbP4Q',\n",
       " '5OqrwhtZ3mcmUSwLINZTWQ',\n",
       " '5PP6BwtNYlPARHApB9lzcQ',\n",
       " '5QNXZcclknB2PkfeN7FJWQ',\n",
       " '5RQ6ENVWSmgmzFxmUGWQ9Q',\n",
       " '5SZe-u0hyquuipQL5lbg_g',\n",
       " '5T0h9YCsXiDZyBsVIN9gcg',\n",
       " '5TY-YMiAXgBjmP_y4AiXhg',\n",
       " '5TY6bUT3bbl9aHItiIXXqw',\n",
       " '5TeA1dyLR7MIor-DfIrYog',\n",
       " '5UvAxXy6BBgyuxv0B3ztjA',\n",
       " '5VXlHFrYZZzj7zfZEsz5nQ',\n",
       " '5VeKrLlQdJjMmKGwBBvMmw',\n",
       " '5XqlvHsByE4GFgTZtZDXgQ',\n",
       " '5YKsKS3nzdkwu37ORT9oiQ',\n",
       " '5Zc41a446gV3K_o7CDs69Q',\n",
       " '5_MrPFw9E0cMJ1Q0DJFZOQ',\n",
       " '5aeR9KcboZmhDZlFscnYRA',\n",
       " '5cbsjFtrntUAeUx51FaFTg',\n",
       " '5fWcM1vRg4v8HI85Vmy8OA',\n",
       " '5fpXjlC71y_mKORnPdX5zA',\n",
       " '5gv6AqHXfi3gJV4fb432Vw',\n",
       " '5i5sLQPOkBAE5CoimgiK1g',\n",
       " '5iHctUjkQTGwEvOaBkwMRQ',\n",
       " '5iSlHNIy3RLbCP5AayB31g',\n",
       " '5id6Wu6n07N2lIklMAorEw',\n",
       " '5j7BnXXvlS69uLVHrY9Upw',\n",
       " '5jTmjxb1X34EfcY1gos4tw',\n",
       " '5keoVVM81g-nJw0Zdpl1nA',\n",
       " '5l-yKN13VwfPwuSiBIqdJQ',\n",
       " '5ma1OUQWy_Ds80xUiP7JPQ',\n",
       " '5n2dA_QqO4c_7pSK0Of6AQ',\n",
       " '5o7Fx7Iot-gLKVNegLLw-w',\n",
       " '5pxRAyPz1PrW2amW7yYaxA',\n",
       " '5qG4UHurI1yEozwn25WAFw',\n",
       " '5qK5rJxwo0cjP3vTf3lkSA',\n",
       " '5rPcuMOjSbKPuYzVLsstQQ',\n",
       " '5shgJB7a-2_gdnzc0gsOtg',\n",
       " '5t9kTG9DakuamJgY65HA7w',\n",
       " '5tTKSogU3fWO7TlnYrffbA',\n",
       " '5tl4tyaJEzGeAdbi_L7PzQ',\n",
       " '5tzNOeow197qn-a0tUJdVA',\n",
       " '5uk8eUTiRS_Y5p_EjnrfkQ',\n",
       " '5uvX6yqie9DpHR7UAiQZtw',\n",
       " '5xX1Eb4fBoUr53OJkgRHRQ',\n",
       " '5xYk23lz0ktdMvzHtohymQ',\n",
       " '5xdKUuu4DbJ71KGbwRXfFg',\n",
       " '5yZ1XmDcOEsElDeb9PlPDQ',\n",
       " '5z1WIr7E9P2CSzyN5seeSA',\n",
       " '5zpAZqSrsdltaduk67jOow',\n",
       " '6-gRHn1n11ATqWBrFTLnNA',\n",
       " '6-lmL3sC-axuh8y1SPSiqg',\n",
       " '60YMDriyoqeimFOjHXCUoQ',\n",
       " '60uVlCUiLJvq3xNo_3bhQQ',\n",
       " '61pecmfztHO2SLs-WRkwVg',\n",
       " '61qDFkNrHKzyA9n3dlgcEw',\n",
       " '63Qj5E-GzHJ6vhjhGR4XDw',\n",
       " '64o_nYvzIKwHFOSYSEm-qw',\n",
       " '65eDIQ8bpMJFtgdyX7ulVA',\n",
       " '66jwLkSd6M0cZulZrA3zcw',\n",
       " '679eSYC15Sc17TN9Djj8sg',\n",
       " '68jn0s0snbO5dhasLaVvDw',\n",
       " '698nukvxe7mq2Fra5vDikQ',\n",
       " '6ANVuBMmpkXpFd5Hzkn4_Q',\n",
       " '6H8xfhoZ2IGa3eNiY5FqLA',\n",
       " '6HdzmAatFoB8UDep4n9QIw',\n",
       " '6JTxM3pZAaiauddFu88VpA',\n",
       " '6JVaLv8KvOgK24RB7pxUiw',\n",
       " '6MpOzb5ImLdDXHsn4HwI-Q',\n",
       " '6Na0jTJjX5GQY_ZJ53G02A',\n",
       " '6PqYwabO2g1r2ZB7eImOiw',\n",
       " '6QUuDlLjNDQWFCbJ9--jsQ',\n",
       " '6TSpAuUdmo2UEn9emgd8xg',\n",
       " '6TvB1PZCY1Ap2S-yNJPs4w',\n",
       " '6UI3dCIY6eM1eBOsnEVBuw',\n",
       " '6UqOXFic_vu2JLGuu8YD6A',\n",
       " '6V_7ldr9tjmet0BdAnC34A',\n",
       " '6Ve_2kEz18dvhp4q3M5I2Q',\n",
       " '6Vyp-9i1jzwK_bvisuPJpQ',\n",
       " '6W3hdaCjx_n1kADEuORduA',\n",
       " '6Wvn57wjSrVX7gJM37CIZw',\n",
       " '6Z6IyosSMciZtwk8hRLRag',\n",
       " '6_KCUxu2kOgP-pRnSNXG8Q',\n",
       " '6a3n4Hd0niHndoPywSkb7Q',\n",
       " '6bDpJirSVqt-NXz04vJ8ug',\n",
       " '6bU4NFkXbdbvnQBDa9-nfQ',\n",
       " '6bVEM9jD-mpU4WNXcJ9tHA',\n",
       " '6bYgKI5JaQmS2xDoofS6cQ',\n",
       " '6beJGNWviNq_VbODEULexA',\n",
       " '6bgjcFOy4WHMyw62_1V9Pw',\n",
       " '6cYgq6_kSOa2SgXrjyaLZg',\n",
       " '6e0Abng1LRexKI4LRJTX_A',\n",
       " '6fKmO2gzGQhzM791H6b4mQ',\n",
       " '6fPQJq4f_yiq1NHn0fd11Q',\n",
       " '6fz0hnNIVpLF5v2NqJfA9w',\n",
       " '6hsXF2bRmrstSmwuHwI-kw',\n",
       " '6jDD-Z8QcsKTdIDWwM8gog',\n",
       " '6nbPXEjmBnDtsgM_YNwGjw',\n",
       " '6oLnLmdo9FhuAeR-vLQ4tg',\n",
       " '6qKjl6xJQzLb9ka-QbTudA',\n",
       " '6qP6R78nlAGSahx78DayHQ',\n",
       " '6r8YOdxoNYfkEfqxl-nO1A',\n",
       " '6s7uduX1Q1KSjOKvwxYkRA',\n",
       " '6tCMxC7Etf--WYEd-EiprA',\n",
       " '6tSvz_21BMo3a4GaItwa0g',\n",
       " '6uV3KMOo8YQofuNUs4D9pA',\n",
       " '6u_6RV0qDaTQyYqZTzl3XA',\n",
       " '6xBgaXrAlH5KMIW-GPSUzQ',\n",
       " '6xgcHeLad-VaoTIQewK84A',\n",
       " '6yynJxXqG8x9k9wrSvLAEw',\n",
       " '6z3cgIE9dJ01wUm43f0yBQ',\n",
       " '7-Ba9uSmYYpXgnQRoIPxMQ',\n",
       " '71bwX-tbmq4su8H7Q9oLOQ',\n",
       " '73oP6zoYZKNlO8642EMD_Q',\n",
       " '742D-FQL6glg1ek71G4R2w',\n",
       " '74C1z6cqEdvJVgETTcEodw',\n",
       " '74pWjFssgqyhaVg-YCUo3A',\n",
       " '750iLCqKvDnIWzRSRSUlrg',\n",
       " '75lNzRwmjHpuMwSaNxrMBw',\n",
       " '77AfVfvvjfQXslusY8QElg',\n",
       " '77h11eWv6HKJAgojLx8G4w',\n",
       " '78TC3sZSYBzBsSJ0z5pyhw',\n",
       " '78XbdLi5e42XDxgnxuYacg',\n",
       " '78hGCrQ6wLA2yh8zMywnmw',\n",
       " '7B4ZXiaDDcg04_N1A0DG9A',\n",
       " '7BK6vckOh2Ywq8ryy8P7Ow',\n",
       " '7BZ2NdkysVLgWScSEvhILQ',\n",
       " '7EZ4Eu7YJ1ltRCC5jXFJrQ',\n",
       " '7FLHJMOYszFPCqK3tg5umA',\n",
       " '7GGJlp1aWfcXGQz6q7SkXQ',\n",
       " '7GfA5WMSRd-JCaPxnwgIQw',\n",
       " '7IkSGKKiWhfkXQBCT8EOgA',\n",
       " '7KkgMcbVaetryW1wwpzvvA',\n",
       " '7MMhQfuDtRHWtouYFVvxkQ',\n",
       " '7NucoWCjPzZyRPjsVR28xQ',\n",
       " '7NvIgf7XW55OKa5ZU7gw8Q',\n",
       " '7OkUKJNJkurXKeixq_ASVA',\n",
       " '7P3Z4HTUM8M8Y9Yw3cc7Pg',\n",
       " '7PTQ-a8Fu4kxXccFvWWT-Q',\n",
       " '7UFDAX4wLi6ux5otguYldA',\n",
       " '7UtqNjjd9D6oU7UcT2nxig',\n",
       " '7VWtmHsd4HSNDkF5f5xnng',\n",
       " '7Wr0piSMGiq5qy5opiLNrA',\n",
       " '7Xw_vv-ekUL2sTqipnKT0g',\n",
       " '7_F6dA9xh2lydTtr1LCtIQ',\n",
       " '7dHYudt6OOIjiaxkSvv3lQ',\n",
       " '7fxebHYUwIF6CakxSr70iQ',\n",
       " '7gdpCYPKkQqfiWDoTQnHgQ',\n",
       " '7gjYJ6leqm2IMJXNpKvIlw',\n",
       " '7hXWFtmoJHz63SD8k56a_Q',\n",
       " '7ibuDLfx8gEhESAufYIySw',\n",
       " '7iuruLs-q-_RW06IbsBxZw',\n",
       " '7kXrUSjG67NitjRfRFn9cw',\n",
       " '7lDDVsh4K3KeDdUv8_t7Zg',\n",
       " '7nRlDLrob6oK5zmGo4Vpbg',\n",
       " '7njZaRjDXi8anBaGlGQu4g',\n",
       " '7phGRr7Z36IrET7zDKD3Pg',\n",
       " '7qFtiPg0gdbk911_mj6LoA',\n",
       " '7sGcBZwkD4yFLiBLS1WKgA',\n",
       " '7sPNbCx7vGAaH7SbNPZ6oA',\n",
       " '7sb2FYLS2sejZKxRYF9mtg',\n",
       " '7tqDSf2wJ1BrLDSfhhJitA',\n",
       " '7usumJrTK_qs2GbSd8zIvg',\n",
       " '7vHvQCjPq5pWj7Rio1A--w',\n",
       " '7vXmhdqO6aAoZGEVyusk0w',\n",
       " '7w9GpK5BJZY94sbfK__oDw',\n",
       " '7wHLFohwCw8l6WS-feLjeg',\n",
       " '7wMCJ9NqL9eBEX4WdJWuIA',\n",
       " '7xEgy2btCKLdTe1vD14ABw',\n",
       " '7xXaO9deBDh_dd0JQjA-Qg',\n",
       " '7yYexN1Q5ShE_z1MH2TDTw',\n",
       " '7yntwIUh2ZEkWGe9Zth7tw',\n",
       " '80Lkm305ZOkQdMEIvOy_lw',\n",
       " '816UOVoEQM6yLiWBD7PDNQ',\n",
       " '82-wE5pkxyBKhfxyyZap_A',\n",
       " '82YGtjc5KKikNiqBZ33qzw',\n",
       " '82g1PwX5FvclqqdjJHcVNA',\n",
       " '82kehL5xSvGbLYTmF_f2Vg',\n",
       " '83C5ysOCnmNGB_fDsVdr9Q',\n",
       " '85gYSNxRpFIbQ3JVcudsVw',\n",
       " '86stmK3Vm2f5W6PdyvuLrQ',\n",
       " '86wtLylJ9fbVuXRy5WU3Zw',\n",
       " '86xm0Q8iX5ZjODWMkvwnxA',\n",
       " '89Nhx37ddA8isjGnOQaGVw',\n",
       " '8F-UdXe_YylX3k0L1SEiRg',\n",
       " '8FUzCm4Q13MJMX7N6ftmQw',\n",
       " '8I2Xb-mksGen0ra2CnUJpw',\n",
       " '8J4oT58-Nc-q1bpF9CRTpw',\n",
       " '8K3CRM4COa0SSBEvli0fJQ',\n",
       " '8KEB1lcjKlIVSd6uA8JB9w',\n",
       " '8KsMtzkmKgNsiVWyeeYQYw',\n",
       " '8L_eeOwZryvlUEO42Zq8nQ',\n",
       " '8NQNJZgL5bshPkGzQ76SDQ',\n",
       " '8OaXvfag7E7oznV4rVb7vg',\n",
       " '8Q6jl7OW8DZzwANggDspcw',\n",
       " '8Qs6f026h6sU6MAzL7JJjg',\n",
       " '8RFT1woy0WnTp62ndVJgow',\n",
       " '8RGoNUEC4QGbpF4af7CDdQ',\n",
       " '8SWZLawwzqwzbXpGQS7gBw',\n",
       " '8SwMaPL6AJIs1ZPSZ3NJ4w',\n",
       " '8USUyIeN39rurnqCn5cA0w',\n",
       " '8YJOMfdnk42v3PvpkDxJGg',\n",
       " '8YjfILsV0xu84t0aTiceig',\n",
       " '8Yz1eFsaUy-ny3B6YZDOrg',\n",
       " '8_mXYs-ZOqDGS7ifAjaocA',\n",
       " '8aRk2nVmVvhfNFW9TcsUfA',\n",
       " '8b5ll2kjXfjgFIqWsjkr8Q',\n",
       " '8bYXg27QEoAx7us15eIL5g',\n",
       " '8bZ49zy4KlFVu5teFETYhQ',\n",
       " '8chcaZIRlP4p5anpzUB3FQ',\n",
       " '8dSIAoz_UphMGpZr_uMing',\n",
       " '8f5JVaK2mZCu9lct23dhtQ',\n",
       " '8fFTJBh0RB2EKG53ibiBKw',\n",
       " '8fiZjbPMgg4qDSLIdZsWZg',\n",
       " '8fjF2NIPSM0Ar1hed2tdog',\n",
       " '8hAGLM_ZQa4CFhzvVcLczQ',\n",
       " '8hDKFHyRrILlXp5DfTlSGw',\n",
       " '8jj6dYkZtxTCsq_Y-C_DtQ',\n",
       " '8lZtLSeJVg28Gb75iklmmQ',\n",
       " '8nDEOGVVvReXFJ2zjPh4Pw',\n",
       " '8olG8J91NG_QU92WHG5QfA',\n",
       " '8pLlsYgvrC5SJL1Con8FYw',\n",
       " '8pmGz3Lg4f_r7HdDZPa4dQ',\n",
       " '8qAtou9A4ksXGkjyLibWDg',\n",
       " '8tMy7yEeNVYylVVFRlPmdQ',\n",
       " '8vkFJ_kA8XxDyjHfmsdEOg',\n",
       " '8wt-saX_qXaqVCXQHc5qXw',\n",
       " '8yY7tAd-qrjC0Ineby0cPA',\n",
       " '8yiLVWzJyyTEhYE0fVNvlA',\n",
       " '8yjGIa9pv2AWaWqxlt4DDA',\n",
       " '8z5yR4GrOmdhy9RvNt_Djg',\n",
       " '8zh9Uts1H32Cqfbar44TLw',\n",
       " '9-cVW8wSRoE6Nmnc7v0uUA',\n",
       " '91JwvxaCYhLWnAOWp_AmeQ',\n",
       " '92lt0pzWl8RRZiPCikDUpA',\n",
       " '939j88ceB05Te3D7kQPwSA',\n",
       " '94BEy7wGKmrOC7sjSHMisw',\n",
       " '94EjzQ9cp7iVctFNe0SSsw',\n",
       " '94GNGMxmruuqRLRhLqllWw',\n",
       " '95CCHowiE0W_ovv5-9lQAQ',\n",
       " '95TwO5NbFeH7Kz7_OYr1Ig',\n",
       " '97TVQZZo_2nMDTeWvqfXXg',\n",
       " '98hNRWW4AC5IzEg4BP3f5Q',\n",
       " '99kGGQoig4YaRi-52VtqMA',\n",
       " '9AnvV8V-UvA_rFhMCr_Dlw',\n",
       " '9Aq0MmPAYcz-Xm2vbUq98A',\n",
       " '9CNObWIk7w8poCo5IAtgmw',\n",
       " '9Fn0aU6gg6oGi9HsE5tlbw',\n",
       " '9GPTELAPPpT5vUxad9AoCw',\n",
       " '9GRbDT8WCtfImKHMn823-A',\n",
       " '9IpKGHaPy3hhXo9g5Bt7lg',\n",
       " '9J-Vg2-uqjreSRtITaDlMg',\n",
       " '9Jc3W0aR9Xf2gcHI0rEXsw',\n",
       " '9M6eqYZlyBMo8K9QztXcIA',\n",
       " '9MK66QkfnTp6BxZudH9wxg',\n",
       " '9P23-V64kYz3trn9ecaJJA',\n",
       " '9PIC380tmNYpIC3z5cvcNA',\n",
       " '9QtHDX71JnaQbmzWWVbi-A',\n",
       " '9R2UXiCt1DgV8Yhm3WX2KA',\n",
       " '9RQznFcE6Mhslaw0WlJ3jA',\n",
       " '9Rs7n2LbINBN8kLbScjhmA',\n",
       " '9SHoWGXsGOCa5hOjBOzPtg',\n",
       " '9U4Tqt5SkZKQ6eeH6IPSxQ',\n",
       " '9UVkAmyodpaSBm49DBKFNw',\n",
       " '9UZbY3FxhpNZ8sVWcYON6A',\n",
       " '9V9RlgqqnPFQJfF_e9Lnmw',\n",
       " '9WAnQD1nj1j3zLZ7ONtvfQ',\n",
       " '9WVNvQ1UhzXVMihF2Rhuiw',\n",
       " '9XelmxS5q9tv7uClvjGqMg',\n",
       " '9YiQ3o0EGmtojzjXdEfgeQ',\n",
       " '9_OPjioLbD9Q_zAeHfv6kw',\n",
       " '9_P2oM43QIRze2VJpw_dHw',\n",
       " '9a9xBjlW2RxKxD9RMgmcuQ',\n",
       " '9ae7asMUB-Fty3tw6m18qQ',\n",
       " '9apCvu75wELDFia_usTjlg',\n",
       " '9avLLw9uke50m8qO9doyMQ',\n",
       " '9c3LlXubVkbMwIrS8dIp0Q',\n",
       " '9cw870n3gsGikVoOT5YOYg',\n",
       " '9d36_PI9Fh7kZ-Pybr2QiA',\n",
       " '9dz6ZYUDCqtD67LSPTLApQ',\n",
       " '9eUBRR7WWOqXErZ7omYLNA',\n",
       " '9edPSkfXKsJmkZYIaOmA7Q',\n",
       " '9ehTNgvu0vZgHjWkQqF6KQ',\n",
       " '9evRrJHVWghiv16EOUg6zA',\n",
       " '9f68hfHK6gNyHWmt9guiJw',\n",
       " '9gXhs9peDtrjWGdUlytYog',\n",
       " '9hEPwq1GmU1dp3ZyBB9ASQ',\n",
       " '9i-yWC0t6NzcDmT1NMKilw',\n",
       " '9iCgfQ7ffWtroHbde7q-pQ',\n",
       " '9iNZ2o5jt-zpdMoAOgd7_g',\n",
       " '9jPb9kD6UBk4aVEgaizaoQ',\n",
       " '9km51KaQujxsSgdaG9gYSw',\n",
       " '9li2xKBUybR_7JGiCwo6Gg',\n",
       " '9lqPRnnxUA47dacFK9lhtQ',\n",
       " '9pTewioF128zRmHKAYGYDQ',\n",
       " '9qcTpWYxrZrN13p1zAP6dA',\n",
       " '9sbXPpRC_wDhCsp7qG2PDw',\n",
       " '9tLCuUmw3Tlco-tKPGkIWQ',\n",
       " '9uRrzqQaq9XwW9lLj7oBxw',\n",
       " '9virZ-ORrLHsv0p8EORxeg',\n",
       " '9wNrqTeoEepFSbFu4QLuUQ',\n",
       " '9wxxjUKdaiWeK0fGxSYhzQ',\n",
       " '9xAQPtjOf92wLjMHPWYEpA',\n",
       " '9xU0kdI_C6mZdJ0IJkgifg',\n",
       " 'A-uZAD4zP3rRxb44WUGV5w',\n",
       " 'A0X1baHPgw9IiBRivu0G9g',\n",
       " 'A1ZRCrjOMOwQGj2hCYWDEQ',\n",
       " 'A2Hj_dI1zPdBS4PJeN2FvQ',\n",
       " 'A2pZTpFXWC38z506XIhnBQ',\n",
       " 'A4yJu-Nq1n6nuLP6QKZkrw',\n",
       " 'A4zLP5AyKEEHQr_dWEZKig',\n",
       " 'A5Rkh7UymKm0_Rxm9K2PJw',\n",
       " 'A6kXV4LPZsPjqWyGU-h_zw',\n",
       " 'A6lKCuTrDSJ_eFKyumZCJQ',\n",
       " 'A6rPIkIzxIeriuI4FFwxnw',\n",
       " 'A7jbtXYFAZhErOW7xIQinA',\n",
       " 'A81a8oV8DAxnGLY2_r8dUQ',\n",
       " 'A8CbZwWOPsd_9wrJlv94Lw',\n",
       " 'A8IouaHOlMHoVIRuAKbKzA',\n",
       " 'A9IUE1W6TfVXfSC6LkrWCw',\n",
       " 'A9cpN5TtYvJcB25pjLxkpQ',\n",
       " 'ABJjxuO6oh5D9R48-eAUdQ',\n",
       " 'ABtCLFoIEH26T2Ij-FQjag',\n",
       " 'AES2bv2pf2jIL5c2qVQ33w',\n",
       " 'AH0S8pIC160m-vtfbUwA3g',\n",
       " 'AI7zxDNVgO3pDyAP_rcA7A',\n",
       " 'AIMffDJ5PtTU9BrEDce0ZQ',\n",
       " 'AKBSPjk_H_w8RCqCE_vUuA',\n",
       " 'AKHdt0hRzX1sYZwmGzwG_A',\n",
       " 'AL5YzikrmxwcBzBNLGO7Jw',\n",
       " 'ALaBtHzn3ekGDJQoCoQgOg',\n",
       " 'ALp--wAIVL4qQfCANn3ffw',\n",
       " 'AMTNJbYbu0OMMAkx4meQxw',\n",
       " 'ANAGlfG4ELW3jiO62GQ1zw',\n",
       " 'ANfmkeFbBgNRc4AN1bpFaw',\n",
       " 'AOEHe6uKrnC_Aje3kT8-7w',\n",
       " 'AOzTlFAnIvuv2Hj_gnepsw',\n",
       " 'APAsM2DPl9FH0sC6jFEaXQ',\n",
       " 'AQKOuwrOCacAhd-jfFMABA',\n",
       " 'ARohEoxqg8TzA5gQfdGAZw',\n",
       " 'ASdkR68GWVdt6rQsiZAN5w',\n",
       " 'ASxoWbHKUWBZLh2rWysLcw',\n",
       " 'AT1bODcrWTKTRNZKRxO-cA',\n",
       " 'ATErtjbLCxEPOD8ICKKr5Q',\n",
       " 'ATGZLAWudXt5hQXQ1AVGDQ',\n",
       " 'AT_xDv2Lm5K7VtER1fp-SA',\n",
       " 'AUOlDSQ8R2wIkN4lQ4kVDg',\n",
       " 'AUZQbqGldMpNURXCh-UuUQ',\n",
       " 'AUl6myFhTAbEqt0GMdKHiw',\n",
       " 'AVA3AwMEHfLY9anV3WgDXA',\n",
       " 'AVXw5x9Sg-jD5EVcvpxrQA',\n",
       " 'AVtNuwwdgWWm2CZqRe5pKQ',\n",
       " 'AYe8rS3qBPuLHSwNOZSbcA',\n",
       " 'AZlnpvILz5cEWJifjr2CSQ',\n",
       " 'A_CXVdyJCE6nyxwbd6fNwg',\n",
       " 'AbadN65irz8uSL8z6fkoBg',\n",
       " 'AcF2XeufMmKG_-y-Bu-_1A',\n",
       " 'AdNbLQQWgR28-GWU0G-qJw',\n",
       " 'Ae91-YlrGnHKq7KXD1WDxw',\n",
       " 'AedKwfr0VdNj7Xmx70GW6g',\n",
       " 'AgMBY5tKMaFnFA2S6Vf22A',\n",
       " 'AhAuNIkWtht0Fq4gEJzodA',\n",
       " 'AhkHsa9xM7-Fxz9sxKra2Q',\n",
       " 'AjWFFZN8KwyqJzzi0DyEsw',\n",
       " 'AkG4ozbKUgjDk8-Mmywsxw',\n",
       " 'Akl6WDSUwYQ3zanxczLNSg',\n",
       " 'AmJ0GFlYCAap-vGYxv-OJQ',\n",
       " 'AnXovUgUHJap3QaDRnjL1w',\n",
       " 'Ang2kQwTBd9S4LrhAS2pCA',\n",
       " 'AoGCnRtwifZ2gTGHtg8KTw',\n",
       " 'Apkr-qykgpUI5ltIw7B-7Q',\n",
       " 'AqfEIxefqdArIWf9YUVAtQ',\n",
       " 'Arx42aGpdfI6XRH9lnKdaQ',\n",
       " 'Asy49gKgikq_NkYsC_7c0Q',\n",
       " 'AtD6B83S4Mbmq0t7iDnUVA',\n",
       " 'AuYHfT9Y0QEeu0hrZic0xg',\n",
       " 'AwBCgvegeFogpb3lpmpCuw',\n",
       " 'AxeQEz3-s9_1TyIo-G7UQw',\n",
       " 'Ay34xZOFax3X23zaA3nwdg',\n",
       " 'AyEtowSGi9vx0-xFfrgjWw',\n",
       " 'B0Vm2tge4I2JJlZhD4sl0Q',\n",
       " 'B19KKE75ZxqoR3EDuvA1qw',\n",
       " 'B1X-D4mRW3VjNUUolPDItA',\n",
       " 'B3omTXI--0eiBC7nCv_WXg',\n",
       " 'B4zX3o9Qehq-cibq05FTcA',\n",
       " 'B7XwqO9Lbzq-VtOiRobfCg',\n",
       " 'B7qQmqD9H2UoOpShmHTfZw',\n",
       " 'B9hP01A7AT4tQXv_nRozQw',\n",
       " 'BBJ6Y9Kb2-luoBFBfc8o9w',\n",
       " 'BCAw9a_kyx2RddRH9tMmKQ',\n",
       " 'BCORM4dEleJXnyPXoaH3HQ',\n",
       " 'BEplfZTUzYwApjMUaOA12w',\n",
       " 'BEtgRzNeXGAf0uQ-HuSyfA',\n",
       " 'BFZ4mqQ3hRKxzbdOU2Nrqw',\n",
       " 'BG8lvZoPTrPJqcvTh-ytzg',\n",
       " 'BGcrYtRjOc6eWtxOpD9cWQ',\n",
       " 'BIbjBxoiJLS8CnNsSP64TQ',\n",
       " 'BKg8YIGX_5YyUczmBAyyCQ',\n",
       " 'BMAflH82OUIMl2mHtP0MNQ',\n",
       " 'BN_GVKaX0jnaVI4Ar1iV2w',\n",
       " 'BNubIia7rJAqSRxioUZGxg',\n",
       " 'BOMgSyi4-TYAnjVn3m0z3A',\n",
       " 'BOQOuwSNhfKx1xvKtONsBg',\n",
       " 'BORPULADzZV6_LJZzcsywQ',\n",
       " 'BQJokxJ4y4s57i7Mn65pvA',\n",
       " 'BQKPbuILIAG53XtIZ51s5Q',\n",
       " 'BSDKbSLFO3CP-uhfcuUCkA',\n",
       " 'BSGy3c4voXZ5ntOi2fJwjg',\n",
       " 'BYYTKKHMGoTPjILP-WMpFw',\n",
       " 'BYp4NUxpwXCsTAoEmksLxA',\n",
       " 'BZSzoBFhkXBUQTx4Cgl5Aw',\n",
       " 'B_WggEKFq-ZFNui8CHPYvA',\n",
       " 'BbOx9i_kDJBnE9K2hyqBTg',\n",
       " 'BcW7Z9lPmOB_8eS2lEuOqQ',\n",
       " 'BdzJQypceJ5Bam2P7egoiw',\n",
       " 'BfBl4TKaTrfrZY-yGSB1jQ',\n",
       " 'Bh3duLU3aASnt2TZ97TJnQ',\n",
       " 'Bhj4G0ArZqRvz9DprbNX3A',\n",
       " 'BhueLLvA0k9G1Lr0WeZX9w',\n",
       " 'BjH8Xepc10i6OhCDQdX6og',\n",
       " 'BjLXhrKdB3I3f3ODy0INRw',\n",
       " 'BjPph9SbmEfox2vip326PQ',\n",
       " 'BjRi5W4tESsLRwVb85GIMQ',\n",
       " 'BjS35X3-_-9TP-RyfzoC_Q',\n",
       " 'BjoG1A78mIEl6on-HNSilw',\n",
       " 'BjrKNWhtQkedHw8hP_0Bjg',\n",
       " 'Bk7MkkqXlEpeQvpjTCx0Yg',\n",
       " 'Bm8nRUsZ-dK6g2eJLxMTOw',\n",
       " 'BmyRJmbVm4jGlkXg4ncLJQ',\n",
       " 'BndplCo6DSSIUSP5wOEF0w',\n",
       " 'BnpuVvPy3sfLlkqKCx6Xnw',\n",
       " 'BrclERrbZrQNRyBmDGawQQ',\n",
       " 'BrvDRqQkoFG3B7szaZsRtg',\n",
       " 'BslEhCyzaQPfpHtDogb4hQ',\n",
       " 'BuFYIRXZNc0Ti-JSQ-QdvA',\n",
       " 'BuHbMNbCQzzYi-3Y5w1c4Q',\n",
       " 'BwuyBsShSQwO3_-SvW6fRA',\n",
       " 'BxRTF1hmGAzMzkTDsEp2gw',\n",
       " 'By7P2EBBvhqoSDj8PnQa8g',\n",
       " 'ByF6BhEWd8if3hiNM-BU9w',\n",
       " 'ByXko9JQ6Jne7v8t4IaQjg',\n",
       " 'BzqwAx_KlRPAMGXw1xHXag',\n",
       " 'C-u6Ywuq192icOblKm6oKg',\n",
       " 'C1jQ5CbszJkS_cyWgaRVGQ',\n",
       " 'C2tt_-1YE4X2T7azXEF7IQ',\n",
       " 'C2yaxqgm99TX8uTFpManKA',\n",
       " 'C4XsC2ZBtsl1EgjdVue3yA',\n",
       " 'C5azlhXSTOlqVAM3nl95nw',\n",
       " 'C74ViML3zx1akYVafLaiXQ',\n",
       " 'C7X8VCpbBwTP2lFR354EIA',\n",
       " 'C9ImzBi5fn742ZcAYDww2A',\n",
       " 'CAxHrXoPrbf0e0AYFPhv6g',\n",
       " 'CBAnjb88MojpentaNPQWVA',\n",
       " 'CBb7z-MTbkzBvsUHBDqxEg',\n",
       " 'CCNp1qS8n2gh51X7Wadabw',\n",
       " 'CCRgGKhzxSpl38w7yhqKUw',\n",
       " 'CCVh8YKdN3c-WgqEbzya3A',\n",
       " 'CFGmRESf9QajghUrc__akg',\n",
       " 'CH3GQlTeeCdT51ddJAxwVg',\n",
       " 'CHW_DPKnTqudyRaDa4vwkg',\n",
       " 'CLthP1yn32xlBswIbsLIjQ',\n",
       " 'CON1tC_YaTuF3fazCjEivA',\n",
       " 'COQMWoDNhnNWHafZjGh0Dw',\n",
       " 'COgwFthJpS4We16W5Gf4lw',\n",
       " 'COq9tlt6lPGUiMbEpHmv_w',\n",
       " 'CR2DMfg3uP02PKT_fuygIw',\n",
       " 'CSaVK9wgqe2_tQuuCDINyQ',\n",
       " 'CTsLzuZ_AR841SiSacdEvg',\n",
       " 'CVECSCW-7zDzjpIPxsew4g',\n",
       " 'CVKOPzBVOj3_apFUmZ9ZWw',\n",
       " 'CVRTly4ag_q5ua0R3iqrVw',\n",
       " 'CVnfj-UBgOSEvcdt4eWUeA',\n",
       " 'CVt6kBVBABSq-NA_FZfrVw',\n",
       " 'CWNMLT-ppaUjLMmrnYDPVg',\n",
       " 'CWhCFNnV60zdQo4c1GBWOA',\n",
       " 'CXrV-YvDIXUz9fGpTz5SEg',\n",
       " 'CXxJkD62XtDrt3pRYNDspg',\n",
       " 'CZF9Nm8CFY2R9ZhfwYIARQ',\n",
       " 'CZJ-s3Io3TQ0Jr2r_tm51g',\n",
       " 'CZhc8YXdFLhAI4ViC2ERTg',\n",
       " 'C_6viXfXuKxYLXjRmWutvg',\n",
       " 'CauQnqZ5eowyrr7oWF_p3Q',\n",
       " 'Cde8PHRM5c359-dnCUk7KQ',\n",
       " 'CeqWpwHBoaxwRcv5btnv6g',\n",
       " 'CfYVBU9ANdjp4L5J2HV0LQ',\n",
       " 'CgnHLwWbteqb8qxcZgBLyw',\n",
       " 'Ch3HkwQYv1YKw_FO06vBWA',\n",
       " 'ChQmxnYLSVIQkL8Ct8z55A',\n",
       " 'CiAZtA0C8AYcPdaaKt816A',\n",
       " 'CiYLq33nAyghFkUR15pP-Q',\n",
       " 'Cl-xl1vTUwHeaGgBxzdTRA',\n",
       " 'Cm-BH_7VPLP63FdI9ML6vA',\n",
       " 'Cn-3QY2-FHPL73VbZTfGag',\n",
       " 'Cni2l-VKG_pdospJ6xliXQ',\n",
       " 'CoyeXg8FBsS_d20QzNIy-A',\n",
       " 'Cpb142L849ilMzgiSR4a0w',\n",
       " 'CqVdLcbyZzfAjeCD1qEBZQ',\n",
       " 'Cr-ywH3ZjBqCyolXf8BpVA',\n",
       " 'Cr066pnTj0ioEMZRTHgMOw',\n",
       " 'Cr4ipI-tr-R8Q0NilkWNkA',\n",
       " 'CtZ3HujCLTChyoad_L-nHA',\n",
       " 'Cv6U-7HrrkKuh-_ec7EktQ',\n",
       " 'CvpXZRF-I7wfm19dW1jOXA',\n",
       " 'CxE5OE_t29h_wqqK1BsoFA',\n",
       " 'Cy8XYYDrZ5wd3Bq-toXMsg',\n",
       " 'CyU3l-0QfH2boVmYAP-o1A',\n",
       " 'CztQkxRXch0__MsSmB0tTw',\n",
       " 'D05AYYIhdkTN1hk2PwYxJw',\n",
       " 'D1BrHyiZON7u_ef-qt4_Uw',\n",
       " 'D1TaFES4phv65RmsM8VCiA',\n",
       " 'D2EDuQwOHp1OdGUNsFzKMw',\n",
       " 'D35unF350QG06LXDe0Cv-Q',\n",
       " 'D6K3VT6S8FwFm4u5uN8T8g',\n",
       " 'D6WXf0lB4pfuXZH3P7c5Ow',\n",
       " 'D6iaNp68eH0LFx5H1vWBCQ',\n",
       " 'D74O-i-iEWo-e5BpwFMcUA',\n",
       " 'D7GGjbDErdqlS48Nyilfow',\n",
       " 'D8a2usm9b-j89W9IrJ_Evw',\n",
       " 'D8yYMxz0p6oQnOQnLRUIyA',\n",
       " 'D9iGotN_nI8MCzVpISep9w',\n",
       " 'D9z7LXFn88Fp4nt4ovO1KA',\n",
       " 'DA-ddRqcReCe_DcXKicvsQ',\n",
       " 'DAqAinEAZkyouNaeZD0OxA',\n",
       " 'DB9BRdu7is0AK1DvcuKlcw',\n",
       " 'DC3Uyai-vCCUgMmMvLESlw',\n",
       " 'DDW3jj5vSNO5nlR1BX5dSg',\n",
       " 'DDs5YMhAjnP6oA5-eGw_TQ',\n",
       " 'DESv2ys6SjBKA4SyDtJvxw',\n",
       " 'DGX2ldVGub9F1EAU9R7C5A',\n",
       " 'DHUAQ4pzH9KKzGZDm1jZLg',\n",
       " 'DIB8aZ0EVaPnbpU27-lEsA',\n",
       " 'DIxgItsSI9QwX9H8lVptYg',\n",
       " 'DJXZrIi4k1Iyd1mQRwxIMg',\n",
       " 'DKXUkIrFnMUMF535gf-dPA',\n",
       " 'DLJCwHGtbAV31UQ1lnIjlw',\n",
       " 'DLw9rK8Qb6l7ESgxtR47qQ',\n",
       " 'DNSDAtD6uxQkoZkQe2v4ew',\n",
       " 'DNiL3RiD-mr29lx3Js3eBA',\n",
       " 'DO3FefiMYiPYsEl6O8W2dw',\n",
       " 'DO5mQxiBOgHEznosjxvJXw',\n",
       " 'DPmZTwZuknnVPAeIGJq5SA',\n",
       " 'DRiTXZ2laRiAgrB-Gkgv1g',\n",
       " 'DTz6gFeWmdvSEIFGjXpIgQ',\n",
       " 'DUeqWfBI90UBR6xSYQO3uw',\n",
       " 'DVJkxZkLKS76Khb2y6XA6A',\n",
       " 'DVfCbJhJUDWRlUfrKzaKOA',\n",
       " 'DW0ZvWuYaSvMcB_3LG5RGg',\n",
       " 'DXYhrg9EXuW8n5QMnCoHAg',\n",
       " 'DYAorbxOyubUB_wtQRCdug',\n",
       " 'DYuOxkW4DtlJsTHdxdXSlg',\n",
       " 'DZN44_XFktITlIUec4H69w',\n",
       " 'DZkVWxknDUuWX0-wmtGhQw',\n",
       " 'DZwXQUa5KGUcJ0y4TO1pFQ',\n",
       " 'D_mVIUu5XyrHz-7U_z_pDg',\n",
       " 'Da6_mToH_MY1bWnC3xF0tw',\n",
       " 'DbEszO3wk1xVmN3pCPob2g',\n",
       " 'DbK9fyJq4O4zfT1jv6JOhw',\n",
       " 'Dcu698L9WArPRc9mAYrAzA',\n",
       " 'DeI4KqEeWy0cTdh7Wy5_RA',\n",
       " 'Dfbg3m2ce1VUzJ5i6Z7IuA',\n",
       " 'DgCAM01n2Qo5DsoKj_zkug',\n",
       " 'DgnIqlqYXdeg0UtSRaKcLQ',\n",
       " 'Dh6JsWOKQqIjuw4ZPnWkOg',\n",
       " 'DiA78qPtp6rfRNdomzjBbw',\n",
       " 'DiCWSyoaBkIpOVUdIO7Jlg',\n",
       " 'DiCfRiL3WX-vwkK85qrIjw',\n",
       " 'DiUgFZkt88xcDWG0OjjCaQ',\n",
       " 'DitL2M_iiHq0DcuA1vNMAQ',\n",
       " 'DkYS3arLOhA8si5uUEmHOw',\n",
       " 'DkZuVzYuylBanEsWK7mNGw',\n",
       " 'DkttCY9pgiJfpPt7MrB2KA',\n",
       " 'Dlv2d2mZbyRIO7V9ZUKoAw',\n",
       " 'DnalbBqgX7afqSYgO5R8iQ',\n",
       " 'Dnn7JsdmvJ0_spWu9wo2kg',\n",
       " 'Do4n_yK_K6DmR9_Es5qwlA',\n",
       " 'Doqz6-NiXEPhr28koWESKw',\n",
       " 'DqcD3YflYhArFsC4KVUnOw',\n",
       " 'DsAZ2gzuGK9_wKzMiGqIjw',\n",
       " 'Dxaz8OxaadecnWol18kAtw',\n",
       " 'DyVteo8Blf5gEfC9QbJE9A',\n",
       " 'DyYS-JKXlW2PCr_Gt5JOvQ',\n",
       " 'DzKl51tivGJMLiNsQqf38w',\n",
       " 'DzshamutZ350laV6Ji9xFQ',\n",
       " 'E-3LCDxXg8ojxDe4c7VZ1g',\n",
       " 'E-pUHcZaIzFQbnWnGHcC7w',\n",
       " 'E0OKctOhZpUQgwUUBc_RwA',\n",
       " 'E0zjBNt4_giYtJqUjugskw',\n",
       " 'E35tgfjzj5P5PV_w7Kgu8w',\n",
       " 'E62l6LwZJ7lKaExcUbrtYw',\n",
       " 'E67gGK8yOn9kkNzx8FzQKA',\n",
       " 'E6VoYfE4YDQueOHYpdyQaQ',\n",
       " 'E7VRsyNQWPteH6_qI4j7bw',\n",
       " 'E7WzNqwMMifJkPZtuKOgRg',\n",
       " 'E8JxHzlUrwio8gxV9k8a9Q',\n",
       " 'E9Bq0UKtg3tB1yr2QXZ0Dg',\n",
       " 'E9HkUYYO_-5vKjvBwLuDIw',\n",
       " 'EAwh1OmG6t6p3nRaZOW_AA',\n",
       " 'ECOkEVUodMLUxvI0PMI4gQ',\n",
       " 'EEePiBwchl-TIBVcTdE0RA',\n",
       " 'EFxnpVs3vLUvpt1vX_iPdg',\n",
       " 'EGGdngbmVn-MA7i-6qrprw',\n",
       " 'EGI8uU1uf0msVtu8XDrNIw',\n",
       " 'EH-WY1bmJz2yDZROQbNsxA',\n",
       " 'EHDcxAlrrP4VPiZuQlrIrg',\n",
       " 'EHIUp6lUabQCtQ4SVZitQw',\n",
       " ...]"
      ]
     },
     "execution_count": 9,
     "metadata": {},
     "output_type": "execute_result"
    }
   ],
   "source": [
    "list(rating_table_df)"
   ]
  },
  {
   "cell_type": "code",
   "execution_count": 10,
   "metadata": {
    "collapsed": true
   },
   "outputs": [],
   "source": [
    "train_data, test_data = cv.train_test_split(rating_table_df, test_size=0.25)"
   ]
  },
  {
   "cell_type": "code",
   "execution_count": 11,
   "metadata": {
    "collapsed": true
   },
   "outputs": [],
   "source": [
    "train_data_matrix = train_data.values\n",
    "test_data_matrix = test_data.values"
   ]
  },
  {
   "cell_type": "code",
   "execution_count": 12,
   "metadata": {
    "collapsed": true
   },
   "outputs": [],
   "source": [
    "train_data_matrix = np.nan_to_num(train_data_matrix)\n",
    "test_data_matrix = np.nan_to_num(test_data_matrix)"
   ]
  },
  {
   "cell_type": "code",
   "execution_count": 13,
   "metadata": {
    "collapsed": false
   },
   "outputs": [
    {
     "data": {
      "text/plain": [
       "array([[ 0.,  0.,  0., ...,  0.,  0.,  0.],\n",
       "       [ 2.,  0.,  0., ...,  0.,  0.,  0.],\n",
       "       [ 0.,  0.,  0., ...,  0.,  0.,  0.],\n",
       "       ..., \n",
       "       [ 0.,  0.,  0., ...,  0.,  0.,  0.],\n",
       "       [ 0.,  0.,  0., ...,  3.,  0.,  0.],\n",
       "       [ 0.,  0.,  0., ...,  0.,  0.,  0.]])"
      ]
     },
     "execution_count": 13,
     "metadata": {},
     "output_type": "execute_result"
    }
   ],
   "source": [
    "train_data_matrix"
   ]
  },
  {
   "cell_type": "code",
   "execution_count": 14,
   "metadata": {
    "collapsed": false
   },
   "outputs": [
    {
     "data": {
      "text/plain": [
       "(751L, 4087L)"
      ]
     },
     "execution_count": 14,
     "metadata": {},
     "output_type": "execute_result"
    }
   ],
   "source": [
    "test_data_matrix.shape"
   ]
  },
  {
   "cell_type": "code",
   "execution_count": 15,
   "metadata": {
    "collapsed": false
   },
   "outputs": [
    {
     "data": {
      "text/plain": [
       "(2251L, 4087L)"
      ]
     },
     "execution_count": 15,
     "metadata": {},
     "output_type": "execute_result"
    }
   ],
   "source": [
    "train_data_matrix.shape"
   ]
  },
  {
   "cell_type": "markdown",
   "metadata": {},
   "source": [
    "#### Calculate the user based similarity and item-based similarity"
   ]
  },
  {
   "cell_type": "code",
   "execution_count": 16,
   "metadata": {
    "collapsed": true
   },
   "outputs": [],
   "source": [
    "# Calculate cosine similarity\n",
    "user_similarity = pdist(train_data_matrix, metric='cosine')\n",
    "item_similarity = pdist(train_data_matrix.T, metric='cosine')"
   ]
  },
  {
   "cell_type": "code",
   "execution_count": 17,
   "metadata": {
    "collapsed": true
   },
   "outputs": [],
   "source": [
    "# Similarity values between users\n",
    "def user_filtering(ratings, similarity):\n",
    "    mean_user_rating = ratings.mean(axis=1)\n",
    "    ratings_diff = (ratings - mean_user_rating[:, np.newaxis])\n",
    "    prediction = mean_user_rating[:, np.newaxis] + similarity.dot(ratings_diff) / np.array([np.abs(similarity).sum(axis=1)]).T\n",
    "    return prediction\n"
   ]
  },
  {
   "cell_type": "code",
   "execution_count": 18,
   "metadata": {
    "collapsed": true
   },
   "outputs": [],
   "source": [
    "# Similarity values for items\n",
    "def item_filtering(ratings, similarity):\n",
    "    prediction = ratings.dot(similarity) / np.array([np.abs(similarity).sum(axis=1)])\n",
    "    return prediction"
   ]
  },
  {
   "cell_type": "markdown",
   "metadata": {},
   "source": [
    "### Predict on test data"
   ]
  },
  {
   "cell_type": "code",
   "execution_count": 19,
   "metadata": {
    "collapsed": false
   },
   "outputs": [],
   "source": [
    "item_prediction = item_filtering(train_data_matrix, item_similarity)\n",
    "user_prediction = user_filtering(train_data_matrix, user_similarity)"
   ]
  },
  {
   "cell_type": "code",
   "execution_count": 20,
   "metadata": {
    "collapsed": true
   },
   "outputs": [],
   "source": [
    "# Function to calculate RMSE values\n",
    "def rmse(prediction, ground_truth):\n",
    "    prediction = prediction[ground_truth.nonzero()].flatten()\n",
    "    ground_truth = ground_truth[ground_truth.nonzero()].flatten()\n",
    "    return sqrt(mean_squared_error(prediction, ground_truth))"
   ]
  },
  {
   "cell_type": "markdown",
   "metadata": {},
   "source": [
    "### The item based approach gives an RMSE of 3.83 whereas the user based approach gives a slightly smaller RMSE 3.74 as calculated below"
   ]
  },
  {
   "cell_type": "code",
   "execution_count": 21,
   "metadata": {
    "collapsed": false
   },
   "outputs": [
    {
     "name": "stdout",
     "output_type": "stream",
     "text": [
      "User-based CF RMSE: 3.73812045763\n"
     ]
    }
   ],
   "source": [
    "print ('User-based CF RMSE: ' + str(rmse(user_prediction, test_data_matrix)))"
   ]
  },
  {
   "cell_type": "code",
   "execution_count": 22,
   "metadata": {
    "collapsed": false
   },
   "outputs": [
    {
     "name": "stdout",
     "output_type": "stream",
     "text": [
      "Item-based CF RMSE: 3.82821984379\n"
     ]
    }
   ],
   "source": [
    "print ('Item-based CF RMSE: ' + str(rmse(item_prediction, test_data_matrix)))"
   ]
  },
  {
   "cell_type": "markdown",
   "metadata": {},
   "source": [
    "### Now let's check the recommendations using memory based approaches"
   ]
  },
  {
   "cell_type": "code",
   "execution_count": 23,
   "metadata": {
    "collapsed": true
   },
   "outputs": [],
   "source": [
    "from surprise import Reader, Dataset\n",
    "from surprise import GridSearch\n",
    "from surprise import Reader, Dataset\n",
    "from surprise import GridSearch\n",
    "from surprise import accuracy, evaluate, SVD, KNNBasic,KNNWithMeans\n",
    "import random"
   ]
  },
  {
   "cell_type": "code",
   "execution_count": 24,
   "metadata": {
    "collapsed": false
   },
   "outputs": [
    {
     "data": {
      "text/html": [
       "<div>\n",
       "<table border=\"1\" class=\"dataframe\">\n",
       "  <thead>\n",
       "    <tr style=\"text-align: right;\">\n",
       "      <th></th>\n",
       "      <th>user_id</th>\n",
       "      <th>business_id</th>\n",
       "      <th>stars</th>\n",
       "    </tr>\n",
       "  </thead>\n",
       "  <tbody>\n",
       "    <tr>\n",
       "      <th>0</th>\n",
       "      <td>bLbSNkLggFnqwNNzzq-Ijw</td>\n",
       "      <td>dKdApYVFDSNYsNOso6NYlA</td>\n",
       "      <td>4</td>\n",
       "    </tr>\n",
       "    <tr>\n",
       "      <th>1</th>\n",
       "      <td>w0Yyvns5BCIL5s_7JuFrug</td>\n",
       "      <td>dKdApYVFDSNYsNOso6NYlA</td>\n",
       "      <td>3</td>\n",
       "    </tr>\n",
       "    <tr>\n",
       "      <th>2</th>\n",
       "      <td>VYOQLKuR0Ugy9lU-QiOuLw</td>\n",
       "      <td>dKdApYVFDSNYsNOso6NYlA</td>\n",
       "      <td>4</td>\n",
       "    </tr>\n",
       "    <tr>\n",
       "      <th>3</th>\n",
       "      <td>qlaVQkSxKcqfHJhoZU3rKg</td>\n",
       "      <td>dKdApYVFDSNYsNOso6NYlA</td>\n",
       "      <td>2</td>\n",
       "    </tr>\n",
       "    <tr>\n",
       "      <th>4</th>\n",
       "      <td>8OeTLey-p-WaL9ErNEci1Q</td>\n",
       "      <td>dKdApYVFDSNYsNOso6NYlA</td>\n",
       "      <td>2</td>\n",
       "    </tr>\n",
       "  </tbody>\n",
       "</table>\n",
       "</div>"
      ],
      "text/plain": [
       "                  user_id             business_id  stars\n",
       "0  bLbSNkLggFnqwNNzzq-Ijw  dKdApYVFDSNYsNOso6NYlA      4\n",
       "1  w0Yyvns5BCIL5s_7JuFrug  dKdApYVFDSNYsNOso6NYlA      3\n",
       "2  VYOQLKuR0Ugy9lU-QiOuLw  dKdApYVFDSNYsNOso6NYlA      4\n",
       "3  qlaVQkSxKcqfHJhoZU3rKg  dKdApYVFDSNYsNOso6NYlA      2\n",
       "4  8OeTLey-p-WaL9ErNEci1Q  dKdApYVFDSNYsNOso6NYlA      2"
      ]
     },
     "execution_count": 24,
     "metadata": {},
     "output_type": "execute_result"
    }
   ],
   "source": [
    "# We will be reusing the df that was created at the start of this code with User, Business and Rating information only and \n",
    "# load it to dataset from surprise package which is used for memory based methods\n",
    "df.head()"
   ]
  },
  {
   "cell_type": "code",
   "execution_count": 25,
   "metadata": {
    "collapsed": false
   },
   "outputs": [],
   "source": [
    "# For the surprise Dataset, we need to initialize the rating scale in the reader as below\n",
    "reader = Reader(rating_scale=(1,5))\n",
    "# Load the data from the file using the reader format\n",
    "data = Dataset.load_from_df(df,reader)\n",
    "raw_ratings = data.raw_ratings\n",
    "#random shuffle the data\n",
    "random.shuffle(raw_ratings)\n",
    "# Split the data into train and test\n",
    "t = int(0.75*len(raw_ratings))\n",
    "train_raw_ratings = raw_ratings[:t]\n",
    "test_raw_ratings = raw_ratings[t:]\n",
    "# Set the data to training\n",
    "data.raw_ratings = train_raw_ratings \n",
    "data.split(n_folds =3) # cross validation\n"
   ]
  },
  {
   "cell_type": "markdown",
   "metadata": {},
   "source": [
    "### Using SVD for recommendations"
   ]
  },
  {
   "cell_type": "code",
   "execution_count": 26,
   "metadata": {
    "collapsed": true
   },
   "outputs": [],
   "source": [
    "# Train on the training data created above\n",
    "trainset = data.build_full_trainset()\n",
    "algo = SVD() # SVD algorithm\n",
    "algo.train(trainset)"
   ]
  },
  {
   "cell_type": "code",
   "execution_count": 27,
   "metadata": {
    "collapsed": false
   },
   "outputs": [
    {
     "name": "stdout",
     "output_type": "stream",
     "text": [
      "RMSE: 1.0221\n"
     ]
    },
    {
     "data": {
      "text/plain": [
       "1.0220563619640592"
      ]
     },
     "execution_count": 27,
     "metadata": {},
     "output_type": "execute_result"
    }
   ],
   "source": [
    "# predict on the testset\n",
    "testset = data.construct_testset(test_raw_ratings)\n",
    "predictions = algo.test(testset)\n",
    "accuracy.rmse(predictions)"
   ]
  },
  {
   "cell_type": "markdown",
   "metadata": {},
   "source": [
    "### Item based using KNNBasic and KNNWithMeans algorithm"
   ]
  },
  {
   "cell_type": "code",
   "execution_count": 30,
   "metadata": {
    "collapsed": false
   },
   "outputs": [
    {
     "name": "stdout",
     "output_type": "stream",
     "text": [
      "Computing the cosine similarity matrix...\n",
      "Done computing similarity matrix.\n",
      "RMSE: 1.0958\n"
     ]
    },
    {
     "data": {
      "text/plain": [
       "1.0957770511833034"
      ]
     },
     "execution_count": 30,
     "metadata": {},
     "output_type": "execute_result"
    }
   ],
   "source": [
    "## KNN Basic Item based - using cosine similarity\n",
    "sim_options_1 = {'name': 'cosine',\n",
    "               'user_based': False  # compute  similarities between items\n",
    "               }\n",
    "algo_1 = KNNBasic(sim_options=sim_options_1)\n",
    "# training knn basic\n",
    "algo_1.train(trainset)\n",
    "#predict on  test set\n",
    "predictions_1 = algo_1.test(testset)\n",
    "accuracy.rmse(predictions_1)"
   ]
  },
  {
   "cell_type": "code",
   "execution_count": 31,
   "metadata": {
    "collapsed": false
   },
   "outputs": [
    {
     "name": "stdout",
     "output_type": "stream",
     "text": [
      "Computing the pearson similarity matrix...\n",
      "Done computing similarity matrix.\n",
      "RMSE: 1.1566\n"
     ]
    },
    {
     "data": {
      "text/plain": [
       "1.1566202106964447"
      ]
     },
     "execution_count": 31,
     "metadata": {},
     "output_type": "execute_result"
    }
   ],
   "source": [
    "## KNN Basic Item based - using pearson similarity\n",
    "sim_options_2 = {'name': 'pearson',\n",
    "               'user_based': False  # compute  similarities between items\n",
    "               }\n",
    "\n",
    "algo_2 =  KNNBasic(sim_options=sim_options_2)\n",
    "# training knn basic\n",
    "algo_2.train(trainset)\n",
    "#predict on  test set\n",
    "predictions_2 = algo_2.test(testset)\n",
    "accuracy.rmse(predictions_2)"
   ]
  },
  {
   "cell_type": "code",
   "execution_count": 32,
   "metadata": {
    "collapsed": false
   },
   "outputs": [
    {
     "name": "stdout",
     "output_type": "stream",
     "text": [
      "Computing the cosine similarity matrix...\n",
      "Done computing similarity matrix.\n",
      "RMSE: 1.0283\n"
     ]
    },
    {
     "data": {
      "text/plain": [
       "1.0282643916733905"
      ]
     },
     "execution_count": 32,
     "metadata": {},
     "output_type": "execute_result"
    }
   ],
   "source": [
    "## KNN means Item based - cosine similarity\n",
    "sim_options_3 = {'name': 'cosine',\n",
    "               'user_based': False  # compute  similarities between items\n",
    "               }\n",
    "algo_3 = KNNWithMeans(sim_options=sim_options_3)\n",
    "# training knn basic\n",
    "algo_3.train(trainset)\n",
    "#predict on  test set\n",
    "predictions_3 = algo_3.test(testset)\n",
    "accuracy.rmse(predictions_3)"
   ]
  },
  {
   "cell_type": "code",
   "execution_count": 33,
   "metadata": {
    "collapsed": false
   },
   "outputs": [
    {
     "name": "stdout",
     "output_type": "stream",
     "text": [
      "Computing the pearson similarity matrix...\n",
      "Done computing similarity matrix.\n",
      "RMSE: 1.0844\n"
     ]
    },
    {
     "data": {
      "text/plain": [
       "1.0843867006365935"
      ]
     },
     "execution_count": 33,
     "metadata": {},
     "output_type": "execute_result"
    }
   ],
   "source": [
    "## KNN means Item based - pearson similarity\n",
    "sim_options_4 = {'name': 'pearson',\n",
    "               'user_based': False  # compute  similarities between items\n",
    "               }\n",
    "algo_4 = KNNWithMeans(sim_options=sim_options_4)\n",
    "# training knn basic\n",
    "algo_4.train(trainset)\n",
    "#predict on  test set\n",
    "predictions_4 = algo_4.test(testset)\n",
    "accuracy.rmse(predictions_4)"
   ]
  },
  {
   "cell_type": "markdown",
   "metadata": {},
   "source": [
    "### User based using KNN Basic and KNN Means"
   ]
  },
  {
   "cell_type": "code",
   "execution_count": 34,
   "metadata": {
    "collapsed": false
   },
   "outputs": [
    {
     "name": "stdout",
     "output_type": "stream",
     "text": [
      "Computing the cosine similarity matrix...\n",
      "Done computing similarity matrix.\n",
      "RMSE: 1.0799\n"
     ]
    },
    {
     "data": {
      "text/plain": [
       "1.0799172555500904"
      ]
     },
     "execution_count": 34,
     "metadata": {},
     "output_type": "execute_result"
    }
   ],
   "source": [
    "## KNN Basic User based - using cosine similarity\n",
    "sim_options_5 = {'name': 'cosine',\n",
    "               'user_based': True  # compute  similarities between users\n",
    "               }\n",
    "algo_5 = KNNBasic(sim_options=sim_options_5)\n",
    "# training knn basic\n",
    "algo_5.train(trainset)\n",
    "#predict on  test set\n",
    "predictions_5 = algo_5.test(testset)\n",
    "accuracy.rmse(predictions_5)"
   ]
  },
  {
   "cell_type": "code",
   "execution_count": 35,
   "metadata": {
    "collapsed": false
   },
   "outputs": [
    {
     "name": "stdout",
     "output_type": "stream",
     "text": [
      "Computing the pearson similarity matrix...\n",
      "Done computing similarity matrix.\n",
      "RMSE: 1.1392\n"
     ]
    },
    {
     "data": {
      "text/plain": [
       "1.1392014387250191"
      ]
     },
     "execution_count": 35,
     "metadata": {},
     "output_type": "execute_result"
    }
   ],
   "source": [
    "## KNN Basic User based - using pearson similarity\n",
    "sim_options_6 = {'name': 'pearson',\n",
    "               'user_based': True  # compute  similarities between users\n",
    "               }\n",
    "algo_6 = KNNBasic(sim_options=sim_options_6)\n",
    "# training knn basic\n",
    "algo_6.train(trainset)\n",
    "#predict on  test set\n",
    "predictions_6 = algo_6.test(testset)\n",
    "accuracy.rmse(predictions_6)"
   ]
  },
  {
   "cell_type": "code",
   "execution_count": 37,
   "metadata": {
    "collapsed": false
   },
   "outputs": [
    {
     "name": "stdout",
     "output_type": "stream",
     "text": [
      "Computing the cosine similarity matrix...\n",
      "Done computing similarity matrix.\n",
      "RMSE: 1.0370\n"
     ]
    },
    {
     "data": {
      "text/plain": [
       "1.0370283747157898"
      ]
     },
     "execution_count": 37,
     "metadata": {},
     "output_type": "execute_result"
    }
   ],
   "source": [
    "## KNN means User based - cosine similarity\n",
    "sim_options_7 = {'name': 'cosine',\n",
    "               'user_based': True  # compute similarities between users\n",
    "               }\n",
    "algo_7 = KNNWithMeans(sim_options=sim_options_7)\n",
    "# training knn basic\n",
    "algo_7.train(trainset)\n",
    "#predict on  test set\n",
    "predictions_7 = algo_7.test(testset)\n",
    "accuracy.rmse(predictions_7)"
   ]
  },
  {
   "cell_type": "code",
   "execution_count": 38,
   "metadata": {
    "collapsed": false
   },
   "outputs": [
    {
     "name": "stdout",
     "output_type": "stream",
     "text": [
      "Computing the pearson similarity matrix...\n",
      "Done computing similarity matrix.\n",
      "RMSE: 1.0868\n"
     ]
    },
    {
     "data": {
      "text/plain": [
       "1.0868231334842784"
      ]
     },
     "execution_count": 38,
     "metadata": {},
     "output_type": "execute_result"
    }
   ],
   "source": [
    "## KNN means User based - pearson similarity\n",
    "sim_options_8 = {'name': 'pearson',\n",
    "               'user_based': True  # compute similarities between users\n",
    "               }\n",
    "algo_8 = KNNWithMeans(sim_options=sim_options_8)\n",
    "# training knn basic\n",
    "algo_8.train(trainset)\n",
    "#predict on  test set\n",
    "predictions_8 = algo_8.test(testset)\n",
    "accuracy.rmse(predictions_8)"
   ]
  },
  {
   "cell_type": "code",
   "execution_count": null,
   "metadata": {
    "collapsed": true
   },
   "outputs": [],
   "source": []
  }
 ],
 "metadata": {
  "anaconda-cloud": {},
  "kernelspec": {
   "display_name": "Python 2",
   "language": "python",
   "name": "python2"
  },
  "language_info": {
   "codemirror_mode": {
    "name": "ipython",
    "version": 2
   },
   "file_extension": ".py",
   "mimetype": "text/x-python",
   "name": "python",
   "nbconvert_exporter": "python",
   "pygments_lexer": "ipython2",
   "version": "2.7.11"
  }
 },
 "nbformat": 4,
 "nbformat_minor": 2
}
