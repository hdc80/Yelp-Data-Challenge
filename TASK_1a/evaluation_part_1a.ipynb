{
 "cells": [
  {
   "cell_type": "code",
   "execution_count": 1,
   "metadata": {},
   "outputs": [],
   "source": [
    "import nltk, re, csv\n",
    "import numpy as np\n",
    "import pandas as pd\n",
    "import scipy\n",
    "# load the category specfic sentiment analysis file\n",
    "df = pd.read_csv('category_new_update.csv', encoding=\"Latin1\")"
   ]
  },
  {
   "cell_type": "code",
   "execution_count": 2,
   "metadata": {},
   "outputs": [],
   "source": [
    "new_df =df.loc[:,]"
   ]
  },
  {
   "cell_type": "code",
   "execution_count": 3,
   "metadata": {},
   "outputs": [],
   "source": [
    "# make a new dataframe with exclusing reviews\n",
    "new_1_df =new_df[['userId', 'Business_Id','Review_Id','food','service','ambience','cost','misc']]"
   ]
  },
  {
   "cell_type": "code",
   "execution_count": 4,
   "metadata": {},
   "outputs": [
    {
     "data": {
      "text/html": [
       "<div>\n",
       "<table border=\"1\" class=\"dataframe\">\n",
       "  <thead>\n",
       "    <tr style=\"text-align: right;\">\n",
       "      <th></th>\n",
       "      <th>Business_Id</th>\n",
       "      <th>Review_Id</th>\n",
       "      <th>food</th>\n",
       "      <th>service</th>\n",
       "      <th>ambience</th>\n",
       "      <th>cost</th>\n",
       "      <th>misc</th>\n",
       "    </tr>\n",
       "  </thead>\n",
       "  <tbody>\n",
       "    <tr>\n",
       "      <th>0</th>\n",
       "      <td>--9e1ONYQuAa-CB_Rrw7Tw</td>\n",
       "      <td>-79slJ5_z6FVKG86yQAPaA</td>\n",
       "      <td>11</td>\n",
       "      <td>2</td>\n",
       "      <td>1</td>\n",
       "      <td>0</td>\n",
       "      <td>3</td>\n",
       "    </tr>\n",
       "    <tr>\n",
       "      <th>1</th>\n",
       "      <td>--9e1ONYQuAa-CB_Rrw7Tw</td>\n",
       "      <td>-QMNsRIEMeT0B1zEoivd3g</td>\n",
       "      <td>6</td>\n",
       "      <td>1</td>\n",
       "      <td>1</td>\n",
       "      <td>4</td>\n",
       "      <td>0</td>\n",
       "    </tr>\n",
       "    <tr>\n",
       "      <th>2</th>\n",
       "      <td>--9e1ONYQuAa-CB_Rrw7Tw</td>\n",
       "      <td>-ogKPaiHquD1m6SxdfjRWQ</td>\n",
       "      <td>-1</td>\n",
       "      <td>1</td>\n",
       "      <td>1</td>\n",
       "      <td>1</td>\n",
       "      <td>2</td>\n",
       "    </tr>\n",
       "    <tr>\n",
       "      <th>3</th>\n",
       "      <td>--9e1ONYQuAa-CB_Rrw7Tw</td>\n",
       "      <td>01RayFuJwHLqrQ30SrBP-A</td>\n",
       "      <td>5</td>\n",
       "      <td>1</td>\n",
       "      <td>5</td>\n",
       "      <td>3</td>\n",
       "      <td>0</td>\n",
       "    </tr>\n",
       "    <tr>\n",
       "      <th>4</th>\n",
       "      <td>--9e1ONYQuAa-CB_Rrw7Tw</td>\n",
       "      <td>0gjGRGlnAC96FO7ja7kk3A</td>\n",
       "      <td>3</td>\n",
       "      <td>1</td>\n",
       "      <td>1</td>\n",
       "      <td>0</td>\n",
       "      <td>1</td>\n",
       "    </tr>\n",
       "  </tbody>\n",
       "</table>\n",
       "</div>"
      ],
      "text/plain": [
       "              Business_Id               Review_Id  food  service  ambience  \\\n",
       "0  --9e1ONYQuAa-CB_Rrw7Tw  -79slJ5_z6FVKG86yQAPaA    11        2         1   \n",
       "1  --9e1ONYQuAa-CB_Rrw7Tw  -QMNsRIEMeT0B1zEoivd3g     6        1         1   \n",
       "2  --9e1ONYQuAa-CB_Rrw7Tw  -ogKPaiHquD1m6SxdfjRWQ    -1        1         1   \n",
       "3  --9e1ONYQuAa-CB_Rrw7Tw  01RayFuJwHLqrQ30SrBP-A     5        1         5   \n",
       "4  --9e1ONYQuAa-CB_Rrw7Tw  0gjGRGlnAC96FO7ja7kk3A     3        1         1   \n",
       "\n",
       "   cost  misc  \n",
       "0     0     3  \n",
       "1     4     0  \n",
       "2     1     2  \n",
       "3     3     0  \n",
       "4     0     1  "
      ]
     },
     "execution_count": 4,
     "metadata": {},
     "output_type": "execute_result"
    }
   ],
   "source": [
    "# group the reviews with respect to review id\n",
    "busi_rev_agg =new_1_df.groupby(['Business_Id','Review_Id'],as_index=False).sum()\n",
    "busi_rev_agg.head()"
   ]
  },
  {
   "cell_type": "code",
   "execution_count": 5,
   "metadata": {},
   "outputs": [],
   "source": [
    "# if the overall review for a particular sentence is greater than 0 then\n",
    "# assign postive sentiment with respect to that category\n",
    "\n",
    "busi_rev_agg.loc[busi_rev_agg['food']>0,'food']= 1\n",
    "busi_rev_agg.loc[busi_rev_agg['food']<0,'food']= -1\n",
    "\n",
    "busi_rev_agg.loc[busi_rev_agg['service']>0,'service']= 1\n",
    "busi_rev_agg.loc[busi_rev_agg['service']<0,'service']= -1\n",
    "\n",
    "busi_rev_agg.loc[busi_rev_agg['ambience']>0,'ambience']= 1\n",
    "busi_rev_agg.loc[busi_rev_agg['ambience']<0,'ambience']= -1\n",
    "\n",
    "busi_rev_agg.loc[busi_rev_agg['cost']>0,'cost']= 1\n",
    "busi_rev_agg.loc[busi_rev_agg['cost']<0,'cost']= -1\n",
    "\n",
    "busi_rev_agg.loc[busi_rev_agg['misc']>0,'misc']= 1\n",
    "busi_rev_agg.loc[busi_rev_agg['misc']<0,'misc']= -1"
   ]
  },
  {
   "cell_type": "code",
   "execution_count": 6,
   "metadata": {},
   "outputs": [],
   "source": [
    "# make business table by taking mean of all its reviews for different categories\n",
    "business_table = busi_rev_agg.groupby(['Business_Id'],as_index=False).mean()"
   ]
  },
  {
   "cell_type": "code",
   "execution_count": 7,
   "metadata": {},
   "outputs": [],
   "source": [
    "# read input data from reviews data\n",
    "input_data = pd.read_csv('20PlusReviews_Excluding_Rare_Biz_Users.csv', encoding=\"Latin1\")"
   ]
  },
  {
   "cell_type": "code",
   "execution_count": 8,
   "metadata": {},
   "outputs": [],
   "source": [
    "# extract only business, user and star rating given by user to restaurant\n",
    "bus_user_rating = input_data[['Business Id','User Id','User_Stars']]"
   ]
  },
  {
   "cell_type": "code",
   "execution_count": 9,
   "metadata": {},
   "outputs": [],
   "source": [
    "# unique list of users to iterate over\n",
    "user_names = bus_user_rating['User Id'].unique()\n",
    "business_names = bus_user_rating['Business Id'].unique()"
   ]
  },
  {
   "cell_type": "code",
   "execution_count": 10,
   "metadata": {},
   "outputs": [
    {
     "name": "stdout",
     "output_type": "stream",
     "text": [
      "3002\n",
      "4087\n"
     ]
    }
   ],
   "source": [
    "print len(user_names)\n",
    "print len(business_names)"
   ]
  },
  {
   "cell_type": "code",
   "execution_count": 11,
   "metadata": {},
   "outputs": [],
   "source": [
    "# make empyty dataframe for making user table\n",
    "user_table = pd.DataFrame(columns = ['User_Id','food','service','ambience','cost','misc'])"
   ]
  },
  {
   "cell_type": "code",
   "execution_count": 12,
   "metadata": {},
   "outputs": [],
   "source": [
    "count = 0\n",
    "\n",
    "for i in user_names:\n",
    "    # get all the restaurant names with the particualr user id\n",
    "    res_names = np.asarray(bus_user_rating[bus_user_rating['User Id'] == i].loc[:,'Business Id'])\n",
    "    star_rating = np.asarray(bus_user_rating[bus_user_rating['User Id'] == i].loc[:,'User_Stars'])\n",
    "    \n",
    "    #print res_names\n",
    "    #print star_rating\n",
    "    \n",
    "    sum = np.zeros(5)\n",
    "    total_rating = 0\n",
    "    # iterate over all the restuarants which user i has reviewed\n",
    "    for j in range(0,len(res_names)):\n",
    "        # take weighed average of all its business vectors\n",
    "        vect = np.array(business_table[business_table['Business_Id'] == res_names[j]].loc[:,'food':'misc'])\n",
    "        if vect.size!=0:\n",
    "            weighted_vect = (star_rating[j])*vect[0]\n",
    "            sum = sum + weighted_vect\n",
    "            total_rating = total_rating + star_rating[j]\n",
    "    \n",
    "    # divide by total sum of ratings\n",
    "    sum = sum/total_rating\n",
    "    # save the user vector\n",
    "    user_table.loc[count]=[i,sum[0],sum[1],sum[2],sum[3],sum[4]]\n",
    "    count = count+1"
   ]
  },
  {
   "cell_type": "code",
   "execution_count": 13,
   "metadata": {},
   "outputs": [
    {
     "name": "stdout",
     "output_type": "stream",
     "text": [
      "3002\n"
     ]
    }
   ],
   "source": [
    "user_table.head()\n",
    "print count"
   ]
  },
  {
   "cell_type": "code",
   "execution_count": 14,
   "metadata": {},
   "outputs": [],
   "source": [
    "# function for rescale cosine similarity values in range of 5 to 1\n",
    "def rescale(inp_vector):\n",
    "    newupper = 5\n",
    "    newlower = 1\n",
    "    max_vector= max(inp_vector)\n",
    "    min_vector = min(inp_vector)\n",
    "    temp= max_vector - min_vector\n",
    "    \n",
    "    rescaled_vector = (inp_vector-min_vector) * 4 / temp + newlower\n",
    "    rescaled_vector=np.around(rescaled_vector, decimals=4)\n",
    "    return rescaled_vector"
   ]
  },
  {
   "cell_type": "code",
   "execution_count": 15,
   "metadata": {},
   "outputs": [],
   "source": [
    "# define cosine similarity matrix(rows = user , cols = business)\n",
    "cosine_sim_user_business = np.zeros(shape=(len(user_names),len(business_names)))\n",
    "# for single user\n",
    "cosine_sim_user = np.zeros(shape=(len(business_names)))"
   ]
  },
  {
   "cell_type": "code",
   "execution_count": 18,
   "metadata": {},
   "outputs": [
    {
     "name": "stdout",
     "output_type": "stream",
     "text": [
      "0\n",
      "500\n",
      "1000\n",
      "1500\n",
      "2000\n",
      "2500\n",
      "3000\n"
     ]
    }
   ],
   "source": [
    "from scipy import spatial\n",
    "\n",
    "for i in range(0,len(user_names)):\n",
    "    \n",
    "    if (i%500==0):\n",
    "        print i\n",
    "    user_vector = np.asarray(user_table[user_table['User_Id'] == user_names[i]].loc[:,'food':'misc'])\n",
    "\n",
    "    # find the user similarity with all the restaurant vectors we have in business table\n",
    "    for j in range(0,len(business_names)):\n",
    "        \n",
    "        bus_vector = np.asarray(business_table[business_table['Business_Id'] == business_names[j]].loc[:,'food':'misc'])\n",
    "        sim = 1 - spatial.distance.cosine(user_vector[0], bus_vector[0])\n",
    "        # save cosine similarity to rescale it further\n",
    "        cosine_sim_user[j]= sim\n",
    "    \n",
    "    cosine_sim_user_business[i][:] = rescale(cosine_sim_user) \n",
    "    #print cosine_sim_user_business[i]\n"
   ]
  },
  {
   "cell_type": "code",
   "execution_count": 100,
   "metadata": {},
   "outputs": [],
   "source": [
    "# save results in csv file\n",
    "df_rating = pd.DataFrame(cosine_sim_user_business)\n",
    "df_rating.to_csv(\"predicted_rating_df.csv\")"
   ]
  },
  {
   "cell_type": "code",
   "execution_count": 103,
   "metadata": {},
   "outputs": [],
   "source": [
    "# making ground truth table with input data\n",
    "rating_table_ground = input_data[['Business Id','User Id','User_Stars']]\n",
    "rating_table_ground = rating_table_ground.pivot(index='User Id', columns='Business Id', values='User_Stars')"
   ]
  },
  {
   "cell_type": "code",
   "execution_count": 104,
   "metadata": {},
   "outputs": [],
   "source": [
    "# converting dataframe to matrix\n",
    "rating_table_ground_matrix=rating_table_ground.values"
   ]
  },
  {
   "cell_type": "code",
   "execution_count": 105,
   "metadata": {},
   "outputs": [],
   "source": [
    "# converting all Nan values to zero if there are any\n",
    "rating_table_ground_matrix=np.nan_to_num(rating_table_ground_matrix)"
   ]
  },
  {
   "cell_type": "code",
   "execution_count": 106,
   "metadata": {},
   "outputs": [],
   "source": [
    "# function to calculate rmse \n",
    "from sklearn.metrics import mean_squared_error\n",
    "from math import sqrt\n",
    "def rmse(prediction, ground_truth):\n",
    "    prediction = prediction[ground_truth.nonzero()].flatten()\n",
    "    ground_truth = ground_truth[ground_truth.nonzero()].flatten()\n",
    "    return sqrt(mean_squared_error(prediction, ground_truth))"
   ]
  },
  {
   "cell_type": "code",
   "execution_count": 110,
   "metadata": {},
   "outputs": [
    {
     "name": "stdout",
     "output_type": "stream",
     "text": [
      "1.63208910243\n"
     ]
    }
   ],
   "source": [
    "# calculate rmse for ground truth and predicted ratings\n",
    "print rmse(cosine_sim_user_business, rating_table_ground_matrix)"
   ]
  },
  {
   "cell_type": "code",
   "execution_count": null,
   "metadata": {},
   "outputs": [],
   "source": []
  }
 ],
 "metadata": {
  "kernelspec": {
   "display_name": "Python 2",
   "language": "python",
   "name": "python2"
  },
  "language_info": {
   "codemirror_mode": {
    "name": "ipython",
    "version": 2
   },
   "file_extension": ".py",
   "mimetype": "text/x-python",
   "name": "python",
   "nbconvert_exporter": "python",
   "pygments_lexer": "ipython2",
   "version": "2.7.12"
  }
 },
 "nbformat": 4,
 "nbformat_minor": 2
}
