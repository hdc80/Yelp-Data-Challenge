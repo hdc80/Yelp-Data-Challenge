{
 "cells": [
  {
   "cell_type": "code",
   "execution_count": 1,
   "metadata": {
    "collapsed": true
   },
   "outputs": [],
   "source": [
    "## This is the code for evaluating the sentiment of the reviews at the sentence level\n",
    "## Author: Pbhadani\n",
    "## Date: 1/12/2017\n",
    "\n",
    "import nltk, re, csv\n",
    "import numpy as np\n",
    "import pandas as pd\n",
    "import seaborn as sns\n",
    "import matplotlib.pyplot as plt\n",
    "from nltk.corpus import stopwords\n",
    "from nltk import PorterStemmer\n",
    "from nltk.stem import WordNetLemmatizer\n",
    "from random import shuffle"
   ]
  },
  {
   "cell_type": "code",
   "execution_count": 2,
   "metadata": {
    "collapsed": true
   },
   "outputs": [],
   "source": [
    "training = pd.read_excel(\"Reciews_Data_Snehal.xlsx\", names =[\"Sent_ID\", \"Category\", \"Polarity\", \"Reviews\"], encoding=\"Latin1\")"
   ]
  },
  {
   "cell_type": "code",
   "execution_count": 3,
   "metadata": {},
   "outputs": [
    {
     "data": {
      "text/html": [
       "<div>\n",
       "<style>\n",
       "    .dataframe thead tr:only-child th {\n",
       "        text-align: right;\n",
       "    }\n",
       "\n",
       "    .dataframe thead th {\n",
       "        text-align: left;\n",
       "    }\n",
       "\n",
       "    .dataframe tbody tr th {\n",
       "        vertical-align: top;\n",
       "    }\n",
       "</style>\n",
       "<table border=\"1\" class=\"dataframe\">\n",
       "  <thead>\n",
       "    <tr style=\"text-align: right;\">\n",
       "      <th></th>\n",
       "      <th>Sent_ID</th>\n",
       "      <th>Category</th>\n",
       "      <th>Polarity</th>\n",
       "      <th>Reviews</th>\n",
       "    </tr>\n",
       "  </thead>\n",
       "  <tbody>\n",
       "    <tr>\n",
       "      <th>0</th>\n",
       "      <td>3121.0</td>\n",
       "      <td>service</td>\n",
       "      <td>-1</td>\n",
       "      <td>But the staff was so horrible to us.</td>\n",
       "    </tr>\n",
       "    <tr>\n",
       "      <th>1</th>\n",
       "      <td>2777.0</td>\n",
       "      <td>anecdotes/miscellaneous</td>\n",
       "      <td>-1</td>\n",
       "      <td>To be completely fair, the only redeeming fact...</td>\n",
       "    </tr>\n",
       "    <tr>\n",
       "      <th>2</th>\n",
       "      <td>1634.0</td>\n",
       "      <td>food</td>\n",
       "      <td>1</td>\n",
       "      <td>The food is uniformly exceptional, with a very...</td>\n",
       "    </tr>\n",
       "    <tr>\n",
       "      <th>3</th>\n",
       "      <td>2534.0</td>\n",
       "      <td>service</td>\n",
       "      <td>1</td>\n",
       "      <td>Where Gabriela personaly greets you and recomm...</td>\n",
       "    </tr>\n",
       "    <tr>\n",
       "      <th>4</th>\n",
       "      <td>583.0</td>\n",
       "      <td>anecdotes/miscellaneous</td>\n",
       "      <td>1</td>\n",
       "      <td>For those that go once and don't enjoy it, all...</td>\n",
       "    </tr>\n",
       "  </tbody>\n",
       "</table>\n",
       "</div>"
      ],
      "text/plain": [
       "   Sent_ID                 Category  Polarity  \\\n",
       "0   3121.0                  service        -1   \n",
       "1   2777.0  anecdotes/miscellaneous        -1   \n",
       "2   1634.0                     food         1   \n",
       "3   2534.0                  service         1   \n",
       "4    583.0  anecdotes/miscellaneous         1   \n",
       "\n",
       "                                             Reviews  \n",
       "0               But the staff was so horrible to us.  \n",
       "1  To be completely fair, the only redeeming fact...  \n",
       "2  The food is uniformly exceptional, with a very...  \n",
       "3  Where Gabriela personaly greets you and recomm...  \n",
       "4  For those that go once and don't enjoy it, all...  "
      ]
     },
     "execution_count": 3,
     "metadata": {},
     "output_type": "execute_result"
    }
   ],
   "source": [
    "training.head()"
   ]
  },
  {
   "cell_type": "code",
   "execution_count": 4,
   "metadata": {
    "collapsed": true
   },
   "outputs": [],
   "source": [
    "from sklearn.feature_extraction.text import TfidfVectorizer\n",
    "tv = TfidfVectorizer(min_df= 20)\n",
    "X = tv.fit_transform(training[\"Reviews\"])"
   ]
  },
  {
   "cell_type": "code",
   "execution_count": 5,
   "metadata": {
    "collapsed": true
   },
   "outputs": [],
   "source": [
    "Y = training[\"Polarity\"]"
   ]
  },
  {
   "cell_type": "code",
   "execution_count": 6,
   "metadata": {},
   "outputs": [
    {
     "name": "stdout",
     "output_type": "stream",
     "text": [
      "[LibSVM]"
     ]
    },
    {
     "data": {
      "text/plain": [
       "SVC(C=1.0, cache_size=200, class_weight=None, coef0=0.0,\n",
       "  decision_function_shape=None, degree=3, gamma='auto', kernel='linear',\n",
       "  max_iter=-1, probability=False, random_state=None, shrinking=True,\n",
       "  tol=0.001, verbose=3)"
      ]
     },
     "execution_count": 6,
     "metadata": {},
     "output_type": "execute_result"
    }
   ],
   "source": [
    "from sklearn.utils import shuffle\n",
    "X, Y = shuffle(X, Y)\n",
    "from sklearn.svm import SVC\n",
    "from sklearn.model_selection import train_test_split\n",
    "X_train, X_test, y_train, y_test = train_test_split(X, Y, test_size=0.10, random_state=3057)\n",
    "clf = SVC(kernel=\"linear\", verbose=3)\n",
    "clf.fit(X_train, y_train)"
   ]
  },
  {
   "cell_type": "code",
   "execution_count": 7,
   "metadata": {},
   "outputs": [
    {
     "name": "stdout",
     "output_type": "stream",
     "text": [
      "0.834799608993\n"
     ]
    }
   ],
   "source": [
    "from sklearn.metrics import accuracy_score\n",
    "y_pred = clf.predict(X_test)\n",
    "print(accuracy_score(y_test, y_pred))"
   ]
  },
  {
   "cell_type": "code",
   "execution_count": 8,
   "metadata": {
    "collapsed": true
   },
   "outputs": [],
   "source": [
    "input_data2 = pd.read_csv(\"20PlusReviews_Excluding_Rare_Biz_Users.csv\")"
   ]
  },
  {
   "cell_type": "code",
   "execution_count": 9,
   "metadata": {},
   "outputs": [
    {
     "data": {
      "text/html": [
       "<div>\n",
       "<style>\n",
       "    .dataframe thead tr:only-child th {\n",
       "        text-align: right;\n",
       "    }\n",
       "\n",
       "    .dataframe thead th {\n",
       "        text-align: left;\n",
       "    }\n",
       "\n",
       "    .dataframe tbody tr th {\n",
       "        vertical-align: top;\n",
       "    }\n",
       "</style>\n",
       "<table border=\"1\" class=\"dataframe\">\n",
       "  <thead>\n",
       "    <tr style=\"text-align: right;\">\n",
       "      <th></th>\n",
       "      <th>Business Id</th>\n",
       "      <th>User Id</th>\n",
       "      <th>Review Id</th>\n",
       "      <th>User_Stars</th>\n",
       "      <th>Text_encoded</th>\n",
       "      <th>Business_Stars</th>\n",
       "      <th>Useful</th>\n",
       "      <th>Funny</th>\n",
       "      <th>Cool</th>\n",
       "    </tr>\n",
       "  </thead>\n",
       "  <tbody>\n",
       "    <tr>\n",
       "      <th>0</th>\n",
       "      <td>dKdApYVFDSNYsNOso6NYlA</td>\n",
       "      <td>bLbSNkLggFnqwNNzzq-Ijw</td>\n",
       "      <td>LwszgYoywAhMaIdt3zPgug</td>\n",
       "      <td>4</td>\n",
       "      <td>Crave those crazy squares!! Not breakfast cere...</td>\n",
       "      <td>3.0</td>\n",
       "      <td>10</td>\n",
       "      <td>9</td>\n",
       "      <td>10</td>\n",
       "    </tr>\n",
       "    <tr>\n",
       "      <th>1</th>\n",
       "      <td>dKdApYVFDSNYsNOso6NYlA</td>\n",
       "      <td>w0Yyvns5BCIL5s_7JuFrug</td>\n",
       "      <td>wxKpyfSQPMGNHSKWFFIbDQ</td>\n",
       "      <td>3</td>\n",
       "      <td>Well, White Castle kind of is what it is... I ...</td>\n",
       "      <td>3.0</td>\n",
       "      <td>8</td>\n",
       "      <td>2</td>\n",
       "      <td>2</td>\n",
       "    </tr>\n",
       "    <tr>\n",
       "      <th>2</th>\n",
       "      <td>dKdApYVFDSNYsNOso6NYlA</td>\n",
       "      <td>VYOQLKuR0Ugy9lU-QiOuLw</td>\n",
       "      <td>kTdvdp0dFu2Q4hAO4hk2Dw</td>\n",
       "      <td>4</td>\n",
       "      <td>Located inside the Casino Royale Hotel &amp; Casin...</td>\n",
       "      <td>3.0</td>\n",
       "      <td>0</td>\n",
       "      <td>0</td>\n",
       "      <td>0</td>\n",
       "    </tr>\n",
       "    <tr>\n",
       "      <th>3</th>\n",
       "      <td>dKdApYVFDSNYsNOso6NYlA</td>\n",
       "      <td>qlaVQkSxKcqfHJhoZU3rKg</td>\n",
       "      <td>hwEz-5l4BP5nYoGZD9xDrg</td>\n",
       "      <td>2</td>\n",
       "      <td>What a disappointment!  I was really looking f...</td>\n",
       "      <td>3.0</td>\n",
       "      <td>1</td>\n",
       "      <td>2</td>\n",
       "      <td>1</td>\n",
       "    </tr>\n",
       "    <tr>\n",
       "      <th>4</th>\n",
       "      <td>dKdApYVFDSNYsNOso6NYlA</td>\n",
       "      <td>8OeTLey-p-WaL9ErNEci1Q</td>\n",
       "      <td>s2MW1ToXDIsD-WcdV__dPQ</td>\n",
       "      <td>2</td>\n",
       "      <td>I am being generous with 2 stars.\\\\nSo disappo...</td>\n",
       "      <td>3.0</td>\n",
       "      <td>5</td>\n",
       "      <td>9</td>\n",
       "      <td>5</td>\n",
       "    </tr>\n",
       "  </tbody>\n",
       "</table>\n",
       "</div>"
      ],
      "text/plain": [
       "              Business Id                 User Id               Review Id  \\\n",
       "0  dKdApYVFDSNYsNOso6NYlA  bLbSNkLggFnqwNNzzq-Ijw  LwszgYoywAhMaIdt3zPgug   \n",
       "1  dKdApYVFDSNYsNOso6NYlA  w0Yyvns5BCIL5s_7JuFrug  wxKpyfSQPMGNHSKWFFIbDQ   \n",
       "2  dKdApYVFDSNYsNOso6NYlA  VYOQLKuR0Ugy9lU-QiOuLw  kTdvdp0dFu2Q4hAO4hk2Dw   \n",
       "3  dKdApYVFDSNYsNOso6NYlA  qlaVQkSxKcqfHJhoZU3rKg  hwEz-5l4BP5nYoGZD9xDrg   \n",
       "4  dKdApYVFDSNYsNOso6NYlA  8OeTLey-p-WaL9ErNEci1Q  s2MW1ToXDIsD-WcdV__dPQ   \n",
       "\n",
       "   User_Stars                                       Text_encoded  \\\n",
       "0           4  Crave those crazy squares!! Not breakfast cere...   \n",
       "1           3  Well, White Castle kind of is what it is... I ...   \n",
       "2           4  Located inside the Casino Royale Hotel & Casin...   \n",
       "3           2  What a disappointment!  I was really looking f...   \n",
       "4           2  I am being generous with 2 stars.\\\\nSo disappo...   \n",
       "\n",
       "   Business_Stars  Useful  Funny  Cool  \n",
       "0             3.0      10      9    10  \n",
       "1             3.0       8      2     2  \n",
       "2             3.0       0      0     0  \n",
       "3             3.0       1      2     1  \n",
       "4             3.0       5      9     5  "
      ]
     },
     "execution_count": 9,
     "metadata": {},
     "output_type": "execute_result"
    }
   ],
   "source": [
    "input_data2.head()"
   ]
  },
  {
   "cell_type": "code",
   "execution_count": 10,
   "metadata": {},
   "outputs": [
    {
     "data": {
      "text/html": [
       "<div>\n",
       "<style>\n",
       "    .dataframe thead tr:only-child th {\n",
       "        text-align: right;\n",
       "    }\n",
       "\n",
       "    .dataframe thead th {\n",
       "        text-align: left;\n",
       "    }\n",
       "\n",
       "    .dataframe tbody tr th {\n",
       "        vertical-align: top;\n",
       "    }\n",
       "</style>\n",
       "<table border=\"1\" class=\"dataframe\">\n",
       "  <thead>\n",
       "    <tr style=\"text-align: right;\">\n",
       "      <th></th>\n",
       "      <th>Business Id</th>\n",
       "    </tr>\n",
       "  </thead>\n",
       "  <tbody>\n",
       "    <tr>\n",
       "      <th>0</th>\n",
       "      <td>dKdApYVFDSNYsNOso6NYlA</td>\n",
       "    </tr>\n",
       "    <tr>\n",
       "      <th>1</th>\n",
       "      <td>dKdApYVFDSNYsNOso6NYlA</td>\n",
       "    </tr>\n",
       "    <tr>\n",
       "      <th>2</th>\n",
       "      <td>dKdApYVFDSNYsNOso6NYlA</td>\n",
       "    </tr>\n",
       "    <tr>\n",
       "      <th>3</th>\n",
       "      <td>dKdApYVFDSNYsNOso6NYlA</td>\n",
       "    </tr>\n",
       "    <tr>\n",
       "      <th>4</th>\n",
       "      <td>dKdApYVFDSNYsNOso6NYlA</td>\n",
       "    </tr>\n",
       "  </tbody>\n",
       "</table>\n",
       "</div>"
      ],
      "text/plain": [
       "              Business Id\n",
       "0  dKdApYVFDSNYsNOso6NYlA\n",
       "1  dKdApYVFDSNYsNOso6NYlA\n",
       "2  dKdApYVFDSNYsNOso6NYlA\n",
       "3  dKdApYVFDSNYsNOso6NYlA\n",
       "4  dKdApYVFDSNYsNOso6NYlA"
      ]
     },
     "execution_count": 10,
     "metadata": {},
     "output_type": "execute_result"
    }
   ],
   "source": [
    "input_data2.columns.values\n",
    "Business_df = pd.DataFrame(input_data2['Business Id'])\n",
    "Business_df.head()"
   ]
  },
  {
   "cell_type": "code",
   "execution_count": 11,
   "metadata": {
    "collapsed": true
   },
   "outputs": [],
   "source": [
    "reviews_new = input_data2[['User Id','Text_encoded','Business Id','Review Id']]"
   ]
  },
  {
   "cell_type": "code",
   "execution_count": 12,
   "metadata": {},
   "outputs": [
    {
     "data": {
      "text/html": [
       "<div>\n",
       "<style>\n",
       "    .dataframe thead tr:only-child th {\n",
       "        text-align: right;\n",
       "    }\n",
       "\n",
       "    .dataframe thead th {\n",
       "        text-align: left;\n",
       "    }\n",
       "\n",
       "    .dataframe tbody tr th {\n",
       "        vertical-align: top;\n",
       "    }\n",
       "</style>\n",
       "<table border=\"1\" class=\"dataframe\">\n",
       "  <thead>\n",
       "    <tr style=\"text-align: right;\">\n",
       "      <th></th>\n",
       "      <th>User Id</th>\n",
       "      <th>Text_encoded</th>\n",
       "      <th>Business Id</th>\n",
       "      <th>Review Id</th>\n",
       "    </tr>\n",
       "  </thead>\n",
       "  <tbody>\n",
       "    <tr>\n",
       "      <th>0</th>\n",
       "      <td>bLbSNkLggFnqwNNzzq-Ijw</td>\n",
       "      <td>Crave those crazy squares!! Not breakfast cere...</td>\n",
       "      <td>dKdApYVFDSNYsNOso6NYlA</td>\n",
       "      <td>LwszgYoywAhMaIdt3zPgug</td>\n",
       "    </tr>\n",
       "    <tr>\n",
       "      <th>1</th>\n",
       "      <td>w0Yyvns5BCIL5s_7JuFrug</td>\n",
       "      <td>Well, White Castle kind of is what it is... I ...</td>\n",
       "      <td>dKdApYVFDSNYsNOso6NYlA</td>\n",
       "      <td>wxKpyfSQPMGNHSKWFFIbDQ</td>\n",
       "    </tr>\n",
       "    <tr>\n",
       "      <th>2</th>\n",
       "      <td>VYOQLKuR0Ugy9lU-QiOuLw</td>\n",
       "      <td>Located inside the Casino Royale Hotel &amp; Casin...</td>\n",
       "      <td>dKdApYVFDSNYsNOso6NYlA</td>\n",
       "      <td>kTdvdp0dFu2Q4hAO4hk2Dw</td>\n",
       "    </tr>\n",
       "    <tr>\n",
       "      <th>3</th>\n",
       "      <td>qlaVQkSxKcqfHJhoZU3rKg</td>\n",
       "      <td>What a disappointment!  I was really looking f...</td>\n",
       "      <td>dKdApYVFDSNYsNOso6NYlA</td>\n",
       "      <td>hwEz-5l4BP5nYoGZD9xDrg</td>\n",
       "    </tr>\n",
       "    <tr>\n",
       "      <th>4</th>\n",
       "      <td>8OeTLey-p-WaL9ErNEci1Q</td>\n",
       "      <td>I am being generous with 2 stars.\\\\nSo disappo...</td>\n",
       "      <td>dKdApYVFDSNYsNOso6NYlA</td>\n",
       "      <td>s2MW1ToXDIsD-WcdV__dPQ</td>\n",
       "    </tr>\n",
       "  </tbody>\n",
       "</table>\n",
       "</div>"
      ],
      "text/plain": [
       "                  User Id                                       Text_encoded  \\\n",
       "0  bLbSNkLggFnqwNNzzq-Ijw  Crave those crazy squares!! Not breakfast cere...   \n",
       "1  w0Yyvns5BCIL5s_7JuFrug  Well, White Castle kind of is what it is... I ...   \n",
       "2  VYOQLKuR0Ugy9lU-QiOuLw  Located inside the Casino Royale Hotel & Casin...   \n",
       "3  qlaVQkSxKcqfHJhoZU3rKg  What a disappointment!  I was really looking f...   \n",
       "4  8OeTLey-p-WaL9ErNEci1Q  I am being generous with 2 stars.\\\\nSo disappo...   \n",
       "\n",
       "              Business Id               Review Id  \n",
       "0  dKdApYVFDSNYsNOso6NYlA  LwszgYoywAhMaIdt3zPgug  \n",
       "1  dKdApYVFDSNYsNOso6NYlA  wxKpyfSQPMGNHSKWFFIbDQ  \n",
       "2  dKdApYVFDSNYsNOso6NYlA  kTdvdp0dFu2Q4hAO4hk2Dw  \n",
       "3  dKdApYVFDSNYsNOso6NYlA  hwEz-5l4BP5nYoGZD9xDrg  \n",
       "4  dKdApYVFDSNYsNOso6NYlA  s2MW1ToXDIsD-WcdV__dPQ  "
      ]
     },
     "execution_count": 12,
     "metadata": {},
     "output_type": "execute_result"
    }
   ],
   "source": [
    "reviews_new.head()"
   ]
  },
  {
   "cell_type": "code",
   "execution_count": 13,
   "metadata": {
    "collapsed": true
   },
   "outputs": [],
   "source": [
    "from nltk import sent_tokenize, word_tokenize, pos_tag\n",
    "sentences_new = []\n",
    "user_Id = []\n",
    "Business_Id = []\n",
    "Reviews_Id = []\n",
    "for i in range(len(reviews_new)):\n",
    "    review = reviews_new.get_value(i,'Text_encoded')\n",
    "    User_Id = reviews_new.get_value(i,'User Id')\n",
    "    Busi_Id = reviews_new.get_value(i,'Business Id')\n",
    "    review_Id = reviews_new.get_value(i,'Review Id')\n",
    "    raw_sentences = sent_tokenize(review)\n",
    "    for sentence in raw_sentences:\n",
    "        sentences_new.append(sentence)\n",
    "        user_Id.append(User_Id)\n",
    "        Business_Id.append(Busi_Id)  \n",
    "        Reviews_Id.append(review_Id)\n",
    "\n",
    "ser_sent = pd.Series(sentences_new)\n",
    "ser_userId = pd.Series(user_Id)\n",
    "ser_Business_Id = pd.Series(Business_Id)\n",
    "ser_Reviews_Id = pd.Series(Reviews_Id)\n",
    "\n",
    "df_test_new = pd.DataFrame()\n",
    "df_test_new['Reviews'] = ser_sent\n",
    "df_test_new['userId'] = ser_userId\n",
    "df_test_new['Business_Id'] = ser_Business_Id\n",
    "df_test_new['Review_Id'] = ser_Reviews_Id"
   ]
  },
  {
   "cell_type": "code",
   "execution_count": 14,
   "metadata": {
    "collapsed": true
   },
   "outputs": [],
   "source": [
    "df_test_new.shape\n",
    "test_review_new = tv.transform(df_test_new[\"Reviews\"])\n",
    "review_predict_new = clf.predict(test_review_new)\n",
    "df_test_new[\"Sentiment\"] = review_predict_new\n",
    "df_test_new.to_csv('output_sent_update.csv')"
   ]
  },
  {
   "cell_type": "code",
   "execution_count": null,
   "metadata": {
    "collapsed": true
   },
   "outputs": [],
   "source": []
  }
 ],
 "metadata": {
  "kernelspec": {
   "display_name": "Python 3",
   "language": "python",
   "name": "python3"
  },
  "language_info": {
   "codemirror_mode": {
    "name": "ipython",
    "version": 3
   },
   "file_extension": ".py",
   "mimetype": "text/x-python",
   "name": "python",
   "nbconvert_exporter": "python",
   "pygments_lexer": "ipython3",
   "version": "3.6.1"
  }
 },
 "nbformat": 4,
 "nbformat_minor": 2
}
