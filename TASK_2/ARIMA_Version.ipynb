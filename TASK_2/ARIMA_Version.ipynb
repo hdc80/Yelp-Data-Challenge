{
 "cells": [
  {
   "cell_type": "code",
   "execution_count": 2,
   "metadata": {},
   "outputs": [
    {
     "name": "stderr",
     "output_type": "stream",
     "text": [
      "C:\\Users\\bhada\\Anaconda3\\lib\\site-packages\\statsmodels\\compat\\pandas.py:56: FutureWarning: The pandas.core.datetools module is deprecated and will be removed in a future version. Please use the pandas.tseries module instead.\n",
      "  from pandas.core import datetools\n"
     ]
    }
   ],
   "source": [
    "from pandas import read_csv\n",
    "import pandas as pd\n",
    "from pandas import datetime\n",
    "from matplotlib import pyplot\n",
    "from statsmodels.tsa.arima_model import ARIMA\n",
    "from sklearn.metrics import mean_squared_error\n",
    "from statsmodels.tsa.stattools import adfuller"
   ]
  },
  {
   "cell_type": "code",
   "execution_count": 50,
   "metadata": {
    "collapsed": true
   },
   "outputs": [],
   "source": [
    "series = pd.read_csv('sorted_part2.csv')"
   ]
  },
  {
   "cell_type": "code",
   "execution_count": 51,
   "metadata": {},
   "outputs": [
    {
     "data": {
      "text/plain": [
       "Index(['Date', 'Review'], dtype='object')"
      ]
     },
     "execution_count": 51,
     "metadata": {},
     "output_type": "execute_result"
    }
   ],
   "source": [
    "series.columns"
   ]
  },
  {
   "cell_type": "code",
   "execution_count": 15,
   "metadata": {
    "collapsed": true
   },
   "outputs": [],
   "source": [
    "training_set = series.iloc[:,1:2].values    "
   ]
  },
  {
   "cell_type": "code",
   "execution_count": 16,
   "metadata": {
    "collapsed": true
   },
   "outputs": [],
   "source": [
    "training_set = training_set.astype('float32')"
   ]
  },
  {
   "cell_type": "code",
   "execution_count": 53,
   "metadata": {},
   "outputs": [
    {
     "data": {
      "text/plain": [
       "0    1\n",
       "1    1\n",
       "2    1\n",
       "3    1\n",
       "4    1\n",
       "Name: Review, dtype: int64"
      ]
     },
     "execution_count": 53,
     "metadata": {},
     "output_type": "execute_result"
    }
   ],
   "source": [
    "ts = series['Review']\n",
    "ts.head()"
   ]
  },
  {
   "cell_type": "code",
   "execution_count": 17,
   "metadata": {
    "collapsed": true
   },
   "outputs": [],
   "source": [
    "size = int(len(training_set) * 0.80)"
   ]
  },
  {
   "cell_type": "code",
   "execution_count": 18,
   "metadata": {
    "collapsed": true
   },
   "outputs": [],
   "source": [
    "train, test = training_set[0:size], training_set[size:len(training_set)]"
   ]
  },
  {
   "cell_type": "code",
   "execution_count": 19,
   "metadata": {
    "collapsed": true
   },
   "outputs": [],
   "source": [
    "history = [x for x in train]"
   ]
  },
  {
   "cell_type": "code",
   "execution_count": 20,
   "metadata": {
    "collapsed": true
   },
   "outputs": [],
   "source": [
    "predictions = list()"
   ]
  },
  {
   "cell_type": "code",
   "execution_count": 21,
   "metadata": {},
   "outputs": [
    {
     "name": "stdout",
     "output_type": "stream",
     "text": [
      "predicted=2.535486, expected=1.000000\n",
      "predicted=2.427285, expected=1.000000\n",
      "predicted=1.816999, expected=2.000000\n",
      "predicted=2.091980, expected=4.000000\n",
      "predicted=2.550621, expected=2.000000\n",
      "predicted=2.542361, expected=5.000000\n",
      "predicted=2.451499, expected=2.000000\n",
      "predicted=2.750228, expected=1.000000\n",
      "predicted=2.512845, expected=7.000000\n",
      "predicted=3.512304, expected=3.000000\n",
      "predicted=3.673999, expected=6.000000\n",
      "predicted=3.851281, expected=3.000000\n",
      "predicted=3.655999, expected=3.000000\n",
      "predicted=3.788034, expected=3.000000\n",
      "predicted=4.071010, expected=8.000000\n",
      "predicted=4.529449, expected=3.000000\n",
      "predicted=4.513004, expected=3.000000\n",
      "predicted=3.547772, expected=3.000000\n",
      "predicted=3.738971, expected=5.000000\n",
      "predicted=4.338349, expected=1.000000\n",
      "predicted=3.843514, expected=2.000000\n",
      "predicted=2.624562, expected=5.000000\n",
      "predicted=3.258075, expected=2.000000\n",
      "predicted=3.187663, expected=6.000000\n",
      "predicted=3.377441, expected=3.000000\n",
      "predicted=3.291681, expected=3.000000\n",
      "predicted=3.407368, expected=3.000000\n",
      "predicted=3.577834, expected=2.000000\n",
      "predicted=3.227387, expected=2.000000\n",
      "predicted=3.090825, expected=1.000000\n",
      "predicted=2.308820, expected=4.000000\n",
      "predicted=2.523496, expected=3.000000\n",
      "predicted=2.649292, expected=5.000000\n",
      "predicted=2.846769, expected=4.000000\n",
      "predicted=3.211839, expected=3.000000\n",
      "predicted=3.300117, expected=1.000000\n",
      "predicted=3.186895, expected=4.000000\n",
      "predicted=3.308446, expected=2.000000\n",
      "predicted=3.312175, expected=3.000000\n",
      "predicted=2.773404, expected=5.000000\n",
      "predicted=3.039070, expected=1.000000\n",
      "predicted=2.759715, expected=2.000000\n",
      "predicted=2.597092, expected=2.000000\n",
      "predicted=2.518066, expected=3.000000\n",
      "predicted=2.776014, expected=3.000000\n",
      "predicted=2.689754, expected=9.000000\n",
      "predicted=3.475092, expected=5.000000\n",
      "predicted=4.267705, expected=3.000000\n",
      "predicted=3.903755, expected=2.000000\n",
      "predicted=3.897934, expected=6.000000\n",
      "predicted=4.792778, expected=1.000000\n",
      "predicted=4.498448, expected=6.000000\n",
      "predicted=3.670401, expected=4.000000\n",
      "predicted=3.846138, expected=1.000000\n",
      "predicted=3.260993, expected=2.000000\n",
      "predicted=3.091267, expected=4.000000\n",
      "predicted=3.126031, expected=2.000000\n",
      "predicted=3.310070, expected=1.000000\n",
      "predicted=2.190034, expected=4.000000\n",
      "predicted=2.298850, expected=7.000000\n",
      "predicted=3.606399, expected=4.000000\n",
      "predicted=3.800018, expected=3.000000\n",
      "predicted=3.266901, expected=5.000000\n",
      "predicted=3.940621, expected=6.000000\n",
      "predicted=5.016989, expected=3.000000\n",
      "predicted=4.676239, expected=2.000000\n",
      "predicted=3.620914, expected=1.000000\n",
      "predicted=3.235698, expected=3.000000\n",
      "predicted=3.361993, expected=6.000000\n",
      "predicted=3.702328, expected=2.000000\n",
      "predicted=2.923061, expected=4.000000\n",
      "predicted=2.800727, expected=3.000000\n",
      "predicted=3.216616, expected=2.000000\n",
      "predicted=3.320612, expected=4.000000\n",
      "predicted=3.457323, expected=1.000000\n",
      "predicted=2.729690, expected=3.000000\n",
      "predicted=2.727783, expected=2.000000\n",
      "predicted=2.554360, expected=6.000000\n",
      "predicted=3.088397, expected=3.000000\n",
      "predicted=3.293194, expected=3.000000\n",
      "predicted=2.858223, expected=1.000000\n",
      "predicted=2.895489, expected=1.000000\n",
      "predicted=2.605787, expected=5.000000\n",
      "predicted=3.254007, expected=3.000000\n",
      "predicted=2.881512, expected=3.000000\n",
      "predicted=2.550910, expected=5.000000\n",
      "predicted=2.985003, expected=3.000000\n",
      "predicted=3.445439, expected=4.000000\n",
      "predicted=3.744439, expected=5.000000\n",
      "predicted=3.883222, expected=4.000000\n",
      "predicted=4.075952, expected=1.000000\n",
      "predicted=3.527520, expected=2.000000\n",
      "predicted=3.008613, expected=3.000000\n",
      "predicted=3.263175, expected=4.000000\n",
      "predicted=3.295557, expected=4.000000\n",
      "predicted=3.039523, expected=3.000000\n",
      "predicted=2.799439, expected=3.000000\n",
      "predicted=3.099475, expected=4.000000\n",
      "predicted=3.529003, expected=1.000000\n",
      "predicted=3.170677, expected=4.000000\n",
      "predicted=3.069603, expected=1.000000\n",
      "predicted=2.752070, expected=2.000000\n",
      "predicted=2.407080, expected=6.000000\n",
      "predicted=3.089775, expected=3.000000\n",
      "predicted=3.048439, expected=2.000000\n",
      "predicted=2.797978, expected=3.000000\n",
      "predicted=2.734377, expected=1.000000\n",
      "predicted=2.901324, expected=3.000000\n",
      "predicted=2.955139, expected=5.000000\n",
      "predicted=2.970219, expected=4.000000\n",
      "predicted=3.128150, expected=3.000000\n",
      "predicted=3.056235, expected=2.000000\n",
      "predicted=2.884693, expected=6.000000\n",
      "predicted=3.893224, expected=2.000000\n",
      "predicted=3.817635, expected=1.000000\n",
      "predicted=2.785846, expected=5.000000\n",
      "predicted=3.130526, expected=10.000000\n",
      "predicted=4.733596, expected=4.000000\n",
      "predicted=4.787258, expected=2.000000\n",
      "predicted=3.579772, expected=6.000000\n",
      "predicted=4.631360, expected=4.000000\n",
      "predicted=5.411498, expected=3.000000\n",
      "predicted=4.732075, expected=2.000000\n",
      "predicted=3.385329, expected=2.000000\n",
      "predicted=3.158679, expected=3.000000\n",
      "predicted=3.361234, expected=2.000000\n",
      "predicted=2.695986, expected=2.000000\n",
      "predicted=2.281289, expected=2.000000\n",
      "predicted=2.159016, expected=2.000000\n",
      "predicted=2.182297, expected=5.000000\n",
      "predicted=2.739564, expected=3.000000\n",
      "predicted=2.766770, expected=6.000000\n",
      "predicted=3.318758, expected=2.000000\n",
      "predicted=3.361375, expected=2.000000\n",
      "predicted=3.173734, expected=4.000000\n",
      "predicted=3.677311, expected=3.000000\n",
      "predicted=3.466346, expected=1.000000\n",
      "predicted=2.883249, expected=1.000000\n",
      "predicted=2.050594, expected=6.000000\n",
      "predicted=2.981001, expected=1.000000\n",
      "predicted=2.797110, expected=2.000000\n",
      "predicted=2.113073, expected=4.000000\n",
      "predicted=2.556125, expected=4.000000\n",
      "predicted=3.161153, expected=4.000000\n",
      "predicted=3.465182, expected=4.000000\n",
      "predicted=3.166630, expected=1.000000\n",
      "predicted=3.109430, expected=4.000000\n",
      "predicted=3.434584, expected=1.000000\n",
      "predicted=3.070183, expected=5.000000\n",
      "predicted=3.141822, expected=4.000000\n",
      "predicted=3.293711, expected=2.000000\n",
      "predicted=2.788814, expected=2.000000\n",
      "predicted=2.859455, expected=2.000000\n",
      "predicted=2.701366, expected=4.000000\n",
      "predicted=3.225559, expected=1.000000\n",
      "predicted=2.512813, expected=2.000000\n",
      "predicted=2.051667, expected=2.000000\n",
      "predicted=2.199658, expected=6.000000\n",
      "predicted=2.962432, expected=2.000000\n",
      "predicted=2.902775, expected=5.000000\n",
      "predicted=2.885815, expected=6.000000\n",
      "predicted=3.977564, expected=1.000000\n",
      "predicted=3.668553, expected=1.000000\n",
      "predicted=3.231038, expected=3.000000\n",
      "predicted=3.057571, expected=4.000000\n",
      "predicted=3.489680, expected=2.000000\n",
      "predicted=2.801044, expected=1.000000\n",
      "predicted=1.878685, expected=3.000000\n",
      "predicted=2.348116, expected=2.000000\n",
      "predicted=2.585299, expected=3.000000\n",
      "predicted=2.468768, expected=6.000000\n",
      "predicted=2.933553, expected=1.000000\n",
      "predicted=2.710635, expected=3.000000\n",
      "predicted=2.814643, expected=2.000000\n",
      "predicted=2.890581, expected=4.000000\n",
      "predicted=3.220347, expected=2.000000\n",
      "predicted=3.001446, expected=2.000000\n",
      "predicted=2.267299, expected=4.000000\n",
      "predicted=2.861011, expected=3.000000\n",
      "predicted=2.929019, expected=4.000000\n",
      "predicted=3.130882, expected=1.000000\n",
      "predicted=2.638958, expected=3.000000\n",
      "predicted=2.768864, expected=3.000000\n",
      "predicted=3.077990, expected=5.000000\n",
      "predicted=3.235378, expected=3.000000\n",
      "predicted=3.178738, expected=7.000000\n",
      "predicted=3.680968, expected=3.000000\n",
      "predicted=4.093048, expected=3.000000\n",
      "predicted=3.848573, expected=1.000000\n",
      "predicted=3.598117, expected=5.000000\n",
      "predicted=3.711487, expected=2.000000\n",
      "predicted=3.601765, expected=4.000000\n",
      "predicted=2.909403, expected=4.000000\n",
      "predicted=3.234268, expected=2.000000\n",
      "predicted=2.998660, expected=2.000000\n",
      "predicted=3.053343, expected=2.000000\n",
      "predicted=2.683771, expected=2.000000\n",
      "predicted=2.679016, expected=2.000000\n",
      "predicted=2.323287, expected=4.000000\n",
      "predicted=2.376793, expected=4.000000\n",
      "predicted=2.760870, expected=2.000000\n",
      "predicted=2.624496, expected=2.000000\n",
      "predicted=2.567970, expected=3.000000\n",
      "predicted=2.870843, expected=2.000000\n",
      "predicted=2.870279, expected=2.000000\n",
      "predicted=2.444889, expected=3.000000\n",
      "predicted=2.352751, expected=5.000000\n",
      "predicted=2.934521, expected=2.000000\n",
      "predicted=2.856128, expected=1.000000\n",
      "predicted=2.338526, expected=3.000000\n",
      "predicted=2.669014, expected=2.000000\n",
      "predicted=2.762709, expected=2.000000\n",
      "predicted=2.443382, expected=2.000000\n",
      "predicted=1.989025, expected=2.000000\n",
      "predicted=2.016620, expected=2.000000\n",
      "predicted=2.162767, expected=1.000000\n"
     ]
    },
    {
     "name": "stdout",
     "output_type": "stream",
     "text": [
      "predicted=1.813079, expected=1.000000\n",
      "predicted=1.622799, expected=6.000000\n",
      "predicted=2.442124, expected=4.000000\n",
      "predicted=2.850727, expected=1.000000\n",
      "predicted=2.333402, expected=3.000000\n",
      "predicted=2.566996, expected=2.000000\n",
      "predicted=2.941906, expected=4.000000\n",
      "predicted=3.334935, expected=1.000000\n",
      "predicted=2.499755, expected=4.000000\n",
      "predicted=2.446453, expected=6.000000\n",
      "predicted=3.500005, expected=2.000000\n",
      "predicted=3.190193, expected=1.000000\n",
      "predicted=2.780734, expected=3.000000\n",
      "predicted=2.862217, expected=3.000000\n",
      "predicted=3.281192, expected=1.000000\n",
      "predicted=2.595601, expected=2.000000\n",
      "predicted=1.930396, expected=3.000000\n",
      "predicted=2.249372, expected=2.000000\n",
      "predicted=2.355196, expected=2.000000\n",
      "predicted=2.109703, expected=1.000000\n",
      "predicted=1.821340, expected=2.000000\n",
      "predicted=1.990729, expected=3.000000\n",
      "predicted=2.224845, expected=5.000000\n",
      "predicted=2.587066, expected=3.000000\n",
      "predicted=2.696785, expected=4.000000\n",
      "predicted=2.945391, expected=2.000000\n",
      "predicted=3.175291, expected=2.000000\n",
      "predicted=3.101291, expected=1.000000\n",
      "predicted=2.800101, expected=6.000000\n",
      "predicted=3.080861, expected=2.000000\n",
      "predicted=2.949335, expected=4.000000\n",
      "predicted=2.698542, expected=2.000000\n",
      "predicted=2.873660, expected=1.000000\n",
      "predicted=2.596872, expected=2.000000\n",
      "predicted=2.796571, expected=4.000000\n",
      "predicted=2.604896, expected=1.000000\n",
      "predicted=2.347455, expected=1.000000\n",
      "predicted=1.697502, expected=3.000000\n",
      "predicted=2.051992, expected=4.000000\n",
      "predicted=2.620594, expected=3.000000\n",
      "predicted=2.666477, expected=2.000000\n",
      "predicted=2.264034, expected=4.000000\n",
      "predicted=2.850128, expected=1.000000\n",
      "predicted=2.864881, expected=4.000000\n",
      "predicted=2.933643, expected=6.000000\n",
      "predicted=3.498427, expected=1.000000\n",
      "predicted=2.986762, expected=3.000000\n",
      "predicted=2.987828, expected=3.000000\n",
      "predicted=3.103298, expected=2.000000\n",
      "predicted=3.170500, expected=4.000000\n",
      "predicted=3.146011, expected=2.000000\n",
      "predicted=2.550554, expected=1.000000\n",
      "predicted=2.404964, expected=4.000000\n",
      "predicted=2.683622, expected=1.000000\n",
      "predicted=2.412307, expected=2.000000\n",
      "predicted=2.230909, expected=2.000000\n",
      "predicted=2.030828, expected=3.000000\n",
      "predicted=2.207635, expected=4.000000\n",
      "predicted=2.708528, expected=2.000000\n",
      "predicted=2.334424, expected=2.000000\n",
      "predicted=2.418633, expected=2.000000\n",
      "predicted=2.508833, expected=2.000000\n",
      "predicted=2.517331, expected=5.000000\n",
      "predicted=2.884320, expected=5.000000\n",
      "predicted=3.113543, expected=4.000000\n",
      "predicted=3.304036, expected=3.000000\n",
      "predicted=3.426282, expected=1.000000\n",
      "predicted=3.271509, expected=5.000000\n",
      "predicted=3.854268, expected=1.000000\n",
      "predicted=3.259588, expected=1.000000\n",
      "predicted=2.345204, expected=1.000000\n",
      "predicted=1.984616, expected=3.000000\n",
      "predicted=2.078953, expected=1.000000\n",
      "predicted=2.022426, expected=3.000000\n",
      "predicted=1.621889, expected=1.000000\n",
      "predicted=1.703163, expected=1.000000\n",
      "predicted=1.601432, expected=1.000000\n",
      "predicted=1.658363, expected=4.000000\n",
      "predicted=1.907905, expected=1.000000\n",
      "predicted=1.885689, expected=4.000000\n",
      "predicted=1.927658, expected=2.000000\n",
      "predicted=2.242330, expected=7.000000\n",
      "predicted=3.188296, expected=4.000000\n",
      "predicted=3.800173, expected=2.000000\n",
      "predicted=3.180619, expected=1.000000\n",
      "predicted=3.227536, expected=2.000000\n",
      "predicted=3.022763, expected=3.000000\n",
      "predicted=3.235758, expected=2.000000\n",
      "predicted=2.347555, expected=4.000000\n",
      "predicted=2.322266, expected=3.000000\n",
      "predicted=2.565975, expected=1.000000\n",
      "predicted=2.421783, expected=4.000000\n",
      "predicted=2.806455, expected=2.000000\n",
      "predicted=2.768815, expected=1.000000\n",
      "predicted=2.399572, expected=3.000000\n",
      "predicted=2.322330, expected=3.000000\n",
      "predicted=2.433915, expected=4.000000\n",
      "predicted=2.846194, expected=1.000000\n",
      "predicted=2.304367, expected=5.000000\n",
      "predicted=2.794472, expected=2.000000\n",
      "predicted=3.113780, expected=3.000000\n",
      "predicted=2.902555, expected=1.000000\n",
      "predicted=2.661559, expected=9.000000\n",
      "predicted=3.564974, expected=1.000000\n",
      "predicted=3.698985, expected=3.000000\n",
      "predicted=2.852663, expected=1.000000\n",
      "predicted=3.090097, expected=1.000000\n",
      "predicted=2.620864, expected=1.000000\n",
      "predicted=2.679169, expected=4.000000\n",
      "predicted=1.883597, expected=4.000000\n",
      "predicted=2.452827, expected=2.000000\n",
      "predicted=2.113075, expected=1.000000\n",
      "predicted=2.061424, expected=1.000000\n",
      "predicted=2.142409, expected=2.000000\n",
      "predicted=2.371814, expected=1.000000\n",
      "predicted=1.865696, expected=4.000000\n",
      "predicted=1.836098, expected=3.000000\n",
      "predicted=2.102832, expected=3.000000\n",
      "predicted=2.275041, expected=3.000000\n",
      "predicted=2.662810, expected=3.000000\n",
      "predicted=2.834373, expected=3.000000\n",
      "predicted=3.171878, expected=1.000000\n",
      "predicted=2.636778, expected=1.000000\n",
      "predicted=2.256136, expected=1.000000\n",
      "predicted=2.014895, expected=3.000000\n",
      "predicted=2.044538, expected=3.000000\n",
      "predicted=2.084848, expected=6.000000\n",
      "predicted=2.541647, expected=4.000000\n",
      "predicted=3.083833, expected=1.000000\n",
      "predicted=2.839017, expected=3.000000\n",
      "predicted=3.247191, expected=4.000000\n",
      "predicted=3.626870, expected=9.000000\n",
      "predicted=4.647196, expected=5.000000\n",
      "predicted=4.447841, expected=5.000000\n",
      "predicted=4.281514, expected=2.000000\n",
      "predicted=4.609514, expected=4.000000\n",
      "predicted=4.772423, expected=2.000000\n",
      "predicted=4.597788, expected=3.000000\n",
      "predicted=3.439836, expected=1.000000\n",
      "predicted=2.850552, expected=2.000000\n",
      "predicted=2.264811, expected=4.000000\n",
      "predicted=2.768036, expected=2.000000\n",
      "predicted=2.384934, expected=3.000000\n",
      "predicted=2.417436, expected=2.000000\n",
      "predicted=2.360796, expected=3.000000\n",
      "predicted=2.645256, expected=3.000000\n",
      "predicted=2.885170, expected=8.000000\n",
      "predicted=3.602717, expected=2.000000\n",
      "predicted=3.603412, expected=2.000000\n",
      "predicted=3.029536, expected=4.000000\n",
      "predicted=3.730219, expected=3.000000\n",
      "predicted=3.760764, expected=6.000000\n",
      "predicted=4.183908, expected=8.000000\n",
      "predicted=4.330614, expected=2.000000\n",
      "predicted=4.105432, expected=1.000000\n",
      "predicted=3.691893, expected=2.000000\n",
      "predicted=3.675994, expected=5.000000\n",
      "predicted=4.184099, expected=1.000000\n",
      "predicted=3.247389, expected=1.000000\n",
      "predicted=1.801388, expected=3.000000\n",
      "predicted=2.225178, expected=2.000000\n",
      "predicted=2.413419, expected=2.000000\n",
      "predicted=2.291408, expected=4.000000\n",
      "predicted=2.204017, expected=1.000000\n",
      "predicted=2.184164, expected=2.000000\n",
      "predicted=2.220311, expected=1.000000\n",
      "predicted=2.036559, expected=3.000000\n",
      "predicted=2.172574, expected=2.000000\n",
      "predicted=2.246935, expected=1.000000\n",
      "predicted=1.588550, expected=3.000000\n",
      "predicted=2.000994, expected=3.000000\n",
      "predicted=2.256866, expected=2.000000\n",
      "predicted=2.306123, expected=4.000000\n",
      "predicted=2.491207, expected=4.000000\n",
      "predicted=2.915781, expected=4.000000\n",
      "predicted=3.323995, expected=6.000000\n",
      "predicted=3.869664, expected=3.000000\n",
      "predicted=3.846963, expected=3.000000\n",
      "predicted=3.863552, expected=2.000000\n",
      "predicted=3.662344, expected=3.000000\n",
      "predicted=3.496767, expected=3.000000\n",
      "predicted=3.401647, expected=2.000000\n",
      "predicted=2.645666, expected=5.000000\n",
      "predicted=3.021948, expected=1.000000\n",
      "predicted=2.715445, expected=2.000000\n",
      "predicted=2.505853, expected=3.000000\n",
      "predicted=2.747523, expected=3.000000\n",
      "predicted=2.718075, expected=2.000000\n",
      "predicted=2.650102, expected=3.000000\n",
      "predicted=2.302739, expected=1.000000\n",
      "predicted=2.339249, expected=6.000000\n",
      "predicted=3.017784, expected=1.000000\n",
      "predicted=2.793979, expected=5.000000\n",
      "predicted=2.830278, expected=1.000000\n",
      "predicted=2.954942, expected=2.000000\n",
      "predicted=2.497580, expected=3.000000\n",
      "predicted=3.093750, expected=2.000000\n",
      "predicted=2.365228, expected=3.000000\n",
      "predicted=2.643197, expected=1.000000\n",
      "predicted=2.006242, expected=5.000000\n",
      "predicted=2.648178, expected=6.000000\n",
      "predicted=3.533762, expected=2.000000\n",
      "predicted=3.113418, expected=4.000000\n",
      "predicted=3.338889, expected=1.000000\n",
      "predicted=3.222344, expected=4.000000\n",
      "predicted=3.611624, expected=2.000000\n",
      "predicted=3.282133, expected=2.000000\n",
      "predicted=2.411784, expected=2.000000\n",
      "predicted=2.501536, expected=2.000000\n",
      "predicted=2.180545, expected=3.000000\n",
      "predicted=2.520649, expected=2.000000\n",
      "predicted=2.193086, expected=5.000000\n",
      "predicted=2.667479, expected=1.000000\n",
      "predicted=2.564421, expected=3.000000\n",
      "predicted=2.512270, expected=4.000000\n",
      "predicted=3.115671, expected=4.000000\n"
     ]
    },
    {
     "name": "stdout",
     "output_type": "stream",
     "text": [
      "predicted=3.220431, expected=1.000000\n",
      "predicted=2.935043, expected=2.000000\n",
      "predicted=2.386692, expected=3.000000\n",
      "predicted=2.922769, expected=2.000000\n",
      "predicted=2.705037, expected=3.000000\n",
      "predicted=2.462215, expected=2.000000\n",
      "predicted=2.195106, expected=1.000000\n",
      "predicted=2.108428, expected=6.000000\n",
      "predicted=2.874693, expected=1.000000\n",
      "predicted=2.645923, expected=2.000000\n",
      "predicted=2.277708, expected=3.000000\n",
      "predicted=2.566143, expected=8.000000\n",
      "predicted=3.633457, expected=6.000000\n",
      "predicted=4.484851, expected=5.000000\n",
      "predicted=4.013993, expected=4.000000\n",
      "predicted=4.605511, expected=3.000000\n",
      "predicted=4.805646, expected=3.000000\n",
      "predicted=4.815088, expected=5.000000\n",
      "predicted=4.390860, expected=4.000000\n",
      "predicted=4.077473, expected=3.000000\n",
      "predicted=3.591560, expected=3.000000\n",
      "predicted=3.458578, expected=2.000000\n",
      "predicted=3.334658, expected=1.000000\n",
      "predicted=2.949173, expected=7.000000\n",
      "predicted=3.410072, expected=3.000000\n",
      "predicted=3.364725, expected=2.000000\n",
      "predicted=2.769836, expected=4.000000\n",
      "predicted=3.158726, expected=3.000000\n",
      "predicted=3.429366, expected=3.000000\n",
      "predicted=3.628038, expected=4.000000\n",
      "predicted=3.182219, expected=3.000000\n",
      "predicted=3.195325, expected=2.000000\n",
      "predicted=3.106597, expected=3.000000\n",
      "predicted=2.982550, expected=4.000000\n",
      "predicted=3.241289, expected=1.000000\n",
      "predicted=2.826868, expected=1.000000\n",
      "predicted=2.203499, expected=4.000000\n",
      "predicted=2.572930, expected=2.000000\n",
      "predicted=2.604208, expected=1.000000\n",
      "predicted=2.053445, expected=1.000000\n",
      "predicted=1.629992, expected=5.000000\n",
      "predicted=2.417408, expected=2.000000\n",
      "predicted=2.612205, expected=2.000000\n",
      "predicted=2.014102, expected=5.000000\n",
      "predicted=2.724250, expected=2.000000\n",
      "predicted=2.906811, expected=4.000000\n",
      "predicted=3.232576, expected=2.000000\n",
      "predicted=2.891808, expected=2.000000\n",
      "predicted=2.756298, expected=1.000000\n",
      "predicted=2.667941, expected=2.000000\n",
      "predicted=2.155146, expected=1.000000\n",
      "predicted=2.036172, expected=2.000000\n",
      "predicted=1.641567, expected=5.000000\n",
      "predicted=2.258817, expected=2.000000\n",
      "predicted=2.226367, expected=2.000000\n",
      "predicted=2.190305, expected=2.000000\n",
      "predicted=2.344937, expected=2.000000\n",
      "predicted=2.514387, expected=1.000000\n",
      "predicted=2.325721, expected=6.000000\n",
      "predicted=2.540986, expected=4.000000\n",
      "predicted=2.997520, expected=1.000000\n",
      "predicted=2.503013, expected=2.000000\n",
      "predicted=2.568666, expected=3.000000\n",
      "predicted=2.915191, expected=1.000000\n",
      "predicted=2.859414, expected=3.000000\n",
      "predicted=2.292875, expected=1.000000\n",
      "predicted=1.884347, expected=2.000000\n",
      "predicted=1.933887, expected=3.000000\n",
      "predicted=2.235025, expected=2.000000\n",
      "predicted=2.015603, expected=3.000000\n",
      "predicted=2.305900, expected=3.000000\n",
      "predicted=2.369367, expected=1.000000\n",
      "predicted=2.296656, expected=2.000000\n",
      "predicted=2.277704, expected=2.000000\n",
      "predicted=2.219987, expected=4.000000\n",
      "predicted=2.536670, expected=5.000000\n",
      "predicted=2.923991, expected=1.000000\n",
      "predicted=2.447131, expected=3.000000\n",
      "predicted=2.699709, expected=5.000000\n",
      "predicted=3.462914, expected=7.000000\n",
      "predicted=4.274208, expected=3.000000\n",
      "predicted=3.983400, expected=2.000000\n",
      "predicted=3.305868, expected=6.000000\n",
      "predicted=4.401697, expected=1.000000\n",
      "predicted=4.096603, expected=2.000000\n",
      "predicted=3.327327, expected=3.000000\n",
      "predicted=2.918371, expected=3.000000\n",
      "predicted=2.875132, expected=5.000000\n",
      "predicted=3.360044, expected=2.000000\n",
      "predicted=2.682151, expected=2.000000\n",
      "predicted=2.713618, expected=2.000000\n",
      "predicted=2.856905, expected=7.000000\n",
      "predicted=3.593217, expected=4.000000\n",
      "predicted=3.789571, expected=4.000000\n",
      "predicted=3.342230, expected=2.000000\n",
      "predicted=3.479132, expected=1.000000\n",
      "predicted=3.268974, expected=3.000000\n",
      "predicted=3.537374, expected=5.000000\n",
      "predicted=3.297447, expected=1.000000\n",
      "predicted=2.658080, expected=6.000000\n",
      "predicted=2.903311, expected=3.000000\n",
      "predicted=3.313899, expected=4.000000\n",
      "predicted=3.547785, expected=2.000000\n",
      "predicted=3.522854, expected=4.000000\n",
      "predicted=3.291211, expected=3.000000\n",
      "predicted=3.753002, expected=4.000000\n",
      "predicted=3.302117, expected=2.000000\n",
      "predicted=3.180632, expected=2.000000\n",
      "Test MSE: 3.075\n"
     ]
    }
   ],
   "source": [
    "for t in range(len(test)):\n",
    "    model = ARIMA(history, order=(5,1,0))\n",
    "    model_fit = model.fit(disp=0)\n",
    "    output = model_fit.forecast()\n",
    "    yhat = output[0]\n",
    "    predictions.append(yhat)\n",
    "    obs = test[t]\n",
    "    history.append(obs)\n",
    "    print('predicted=%f, expected=%f' % (yhat, obs))\n",
    "error = mean_squared_error(test, predictions)\n",
    "print('Test MSE: %.3f' % error)"
   ]
  },
  {
   "cell_type": "code",
   "execution_count": 22,
   "metadata": {},
   "outputs": [
    {
     "data": {
      "image/png": "[encoded data removed]",
      "text/plain": [
       "<matplotlib.figure.Figure at 0x1a65bc497b8>"
      ]
     },
     "metadata": {},
     "output_type": "display_data"
    }
   ],
   "source": [
    "pyplot.plot(test)\n",
    "pyplot.plot(predictions, color='red')\n",
    "pyplot.show()"
   ]
  },
  {
   "cell_type": "code",
   "execution_count": 24,
   "metadata": {
    "collapsed": true
   },
   "outputs": [],
   "source": [
    "predictions = [0] * 540\n",
    "error = mean_squared_error(test, predictions)"
   ]
  },
  {
   "cell_type": "code",
   "execution_count": 23,
   "metadata": {},
   "outputs": [
    {
     "data": {
      "text/plain": [
       "540"
      ]
     },
     "execution_count": 23,
     "metadata": {},
     "output_type": "execute_result"
    }
   ],
   "source": [
    "len(test)"
   ]
  },
  {
   "cell_type": "code",
   "execution_count": 25,
   "metadata": {},
   "outputs": [
    {
     "data": {
      "text/plain": [
       "11.281481481481482"
      ]
     },
     "execution_count": 25,
     "metadata": {},
     "output_type": "execute_result"
    }
   ],
   "source": [
    "error"
   ]
  },
  {
   "cell_type": "code",
   "execution_count": 54,
   "metadata": {},
   "outputs": [
    {
     "name": "stdout",
     "output_type": "stream",
     "text": [
      "Results of Dickey-Fuller Test:\n",
      "Test Statistic                   -4.089946\n",
      "p-value                           0.001006\n",
      "#Lags Used                       28.000000\n",
      "Number of Observations Used    2669.000000\n",
      "Critical Value (1%)              -3.432802\n",
      "Critical Value (5%)              -2.862624\n",
      "Critical Value (10%)             -2.567347\n",
      "dtype: float64\n"
     ]
    }
   ],
   "source": [
    "#Perform Dickey-Fuller test:\n",
    "print('Results of Dickey-Fuller Test:')\n",
    "dftest = adfuller(ts, autolag='AIC')\n",
    "dfoutput = pd.Series(dftest[0:4], index=['Test Statistic','p-value','#Lags Used','Number of Observations Used'])\n",
    "for key,value in dftest[4].items():\n",
    "    dfoutput['Critical Value (%s)'%key] = value\n",
    "print(dfoutput)"
   ]
  },
  {
   "cell_type": "code",
   "execution_count": 30,
   "metadata": {},
   "outputs": [
    {
     "name": "stdout",
     "output_type": "stream",
     "text": [
      "[[ 1.]\n",
      " [ 1.]\n",
      " [ 1.]\n",
      " ..., \n",
      " [ 3.]\n",
      " [ 1.]\n",
      " [ 5.]]\n"
     ]
    }
   ],
   "source": [
    "print(train)"
   ]
  },
  {
   "cell_type": "code",
   "execution_count": 5,
   "metadata": {},
   "outputs": [],
   "source": [
    "# fetching negative reviews to analyse the trend of reviews\n",
    "series_neg = pd.read_csv('part2_negative.csv')"
   ]
  },
  {
   "cell_type": "code",
   "execution_count": 6,
   "metadata": {},
   "outputs": [
    {
     "data": {
      "text/plain": [
       "Index(['Date', 'sign', 'Review_count'], dtype='object')"
      ]
     },
     "execution_count": 6,
     "metadata": {},
     "output_type": "execute_result"
    }
   ],
   "source": [
    "series_neg.columns"
   ]
  },
  {
   "cell_type": "code",
   "execution_count": 7,
   "metadata": {
    "collapsed": true
   },
   "outputs": [],
   "source": [
    "training_set_neg = series_neg.iloc[:,2:3].values    "
   ]
  },
  {
   "cell_type": "code",
   "execution_count": 8,
   "metadata": {
    "collapsed": true
   },
   "outputs": [],
   "source": [
    "training_set_neg = training_set_neg.astype('float32')"
   ]
  },
  {
   "cell_type": "code",
   "execution_count": 9,
   "metadata": {
    "collapsed": true
   },
   "outputs": [],
   "source": [
    "size = int(len(training_set_neg) * 0.80)\n",
    "train_neg, test_neg = training_set_neg[0:size], training_set_neg[size:len(training_set_neg)]"
   ]
  },
  {
   "cell_type": "code",
   "execution_count": 10,
   "metadata": {
    "collapsed": true
   },
   "outputs": [],
   "source": [
    "history_neg = [x for x in train_neg]\n",
    "predictions_neg = list()"
   ]
  },
  {
   "cell_type": "code",
   "execution_count": 14,
   "metadata": {},
   "outputs": [
    {
     "name": "stdout",
     "output_type": "stream",
     "text": [
      "predicted=1.166324, expected=1.000000\n",
      "predicted=1.219940, expected=3.000000\n",
      "predicted=1.420258, expected=1.000000\n",
      "predicted=1.638299, expected=1.000000\n",
      "predicted=1.408106, expected=1.000000\n",
      "predicted=1.477769, expected=1.000000\n",
      "predicted=1.428242, expected=4.000000\n",
      "predicted=1.739474, expected=1.000000\n",
      "predicted=1.696397, expected=1.000000\n",
      "predicted=1.274014, expected=1.000000\n",
      "predicted=1.482145, expected=1.000000\n",
      "predicted=1.795993, expected=1.000000\n",
      "predicted=1.420920, expected=1.000000\n",
      "predicted=1.000000, expected=1.000000\n",
      "predicted=1.000000, expected=1.000000\n",
      "predicted=1.000000, expected=1.000000\n",
      "predicted=1.000000, expected=1.000000\n",
      "predicted=1.000000, expected=1.000000\n",
      "predicted=1.000000, expected=1.000000\n",
      "predicted=1.000000, expected=1.000000\n",
      "predicted=1.000000, expected=1.000000\n",
      "predicted=1.000000, expected=1.000000\n",
      "predicted=1.000000, expected=2.000000\n",
      "predicted=1.152245, expected=1.000000\n",
      "predicted=1.225210, expected=1.000000\n",
      "predicted=1.093236, expected=1.000000\n",
      "predicted=1.156303, expected=1.000000\n",
      "predicted=1.250808, expected=1.000000\n",
      "predicted=1.132242, expected=1.000000\n",
      "predicted=1.000000, expected=2.000000\n",
      "predicted=1.152310, expected=2.000000\n",
      "predicted=1.381848, expected=1.000000\n",
      "predicted=1.314148, expected=1.000000\n",
      "predicted=1.248293, expected=2.000000\n",
      "predicted=1.564227, expected=1.000000\n",
      "predicted=1.596737, expected=1.000000\n",
      "predicted=1.230488, expected=1.000000\n",
      "predicted=1.162351, expected=1.000000\n",
      "predicted=1.243196, expected=1.000000\n",
      "predicted=1.128873, expected=1.000000\n",
      "predicted=1.000000, expected=1.000000\n",
      "predicted=1.000000, expected=1.000000\n",
      "predicted=1.000000, expected=1.000000\n",
      "predicted=1.000000, expected=1.000000\n",
      "predicted=1.000000, expected=1.000000\n",
      "predicted=1.000000, expected=1.000000\n",
      "predicted=1.000000, expected=1.000000\n",
      "predicted=1.000000, expected=1.000000\n",
      "predicted=1.000000, expected=1.000000\n",
      "predicted=1.000000, expected=1.000000\n",
      "predicted=1.000000, expected=1.000000\n",
      "predicted=1.000000, expected=1.000000\n",
      "predicted=1.000000, expected=1.000000\n",
      "predicted=1.000000, expected=1.000000\n",
      "predicted=1.000000, expected=1.000000\n",
      "predicted=1.000000, expected=2.000000\n",
      "predicted=1.156783, expected=1.000000\n",
      "predicted=1.218050, expected=1.000000\n",
      "predicted=1.100563, expected=1.000000\n",
      "predicted=1.162383, expected=1.000000\n",
      "predicted=1.242538, expected=2.000000\n",
      "predicted=1.283101, expected=1.000000\n",
      "predicted=1.216962, expected=1.000000\n",
      "predicted=1.099733, expected=1.000000\n",
      "predicted=1.161421, expected=1.000000\n",
      "predicted=1.249136, expected=1.000000\n",
      "predicted=1.127414, expected=1.000000\n",
      "predicted=1.000000, expected=1.000000\n",
      "predicted=1.000000, expected=1.000000\n",
      "predicted=1.000000, expected=1.000000\n",
      "predicted=1.000000, expected=1.000000\n",
      "predicted=1.000000, expected=1.000000\n",
      "predicted=1.000000, expected=2.000000\n",
      "predicted=1.154844, expected=1.000000\n",
      "predicted=1.216491, expected=1.000000\n",
      "predicted=1.100325, expected=1.000000\n",
      "predicted=1.161473, expected=1.000000\n",
      "predicted=1.248427, expected=1.000000\n",
      "predicted=1.127780, expected=1.000000\n",
      "predicted=1.000000, expected=2.000000\n",
      "predicted=1.154891, expected=1.000000\n",
      "predicted=1.216046, expected=3.000000\n",
      "predicted=1.401160, expected=1.000000\n",
      "predicted=1.618328, expected=1.000000\n",
      "predicted=1.447532, expected=2.000000\n",
      "predicted=1.583444, expected=2.000000\n",
      "predicted=1.862946, expected=1.000000\n",
      "predicted=1.591014, expected=1.000000\n",
      "predicted=1.274460, expected=1.000000\n",
      "predicted=1.409120, expected=1.000000\n",
      "predicted=1.369278, expected=1.000000\n",
      "predicted=1.126203, expected=1.000000\n",
      "predicted=1.000000, expected=1.000000\n",
      "predicted=1.000000, expected=1.000000\n",
      "predicted=1.000000, expected=1.000000\n",
      "predicted=1.000000, expected=1.000000\n",
      "predicted=1.000000, expected=1.000000\n",
      "predicted=1.000000, expected=2.000000\n",
      "predicted=1.151557, expected=1.000000\n",
      "predicted=1.216903, expected=1.000000\n",
      "predicted=1.108241, expected=1.000000\n",
      "predicted=1.165636, expected=1.000000\n",
      "predicted=1.240033, expected=1.000000\n",
      "predicted=1.126551, expected=1.000000\n",
      "predicted=1.000000, expected=1.000000\n",
      "predicted=1.000000, expected=1.000000\n",
      "predicted=1.000000, expected=2.000000\n",
      "Test MSE: 0.274\n"
     ]
    }
   ],
   "source": [
    "for t in range(len(test_neg)):\n",
    "    model = ARIMA(history_neg, order=(5,1,0))\n",
    "    model_fit = model.fit(disp=0)\n",
    "    output = model_fit.forecast()\n",
    "    yhat = output[0]\n",
    "    predictions_neg.append(yhat)\n",
    "    obs = test_neg[t]\n",
    "    history_neg.append(obs)\n",
    "    print('predicted=%f, expected=%f' % (yhat, obs))\n",
    "error = mean_squared_error(test_neg, predictions_neg[:107])\n",
    "print('Test MSE: %.3f' % error)"
   ]
  },
  {
   "cell_type": "code",
   "execution_count": 16,
   "metadata": {},
   "outputs": [
    {
     "data": {
      "image/png": "[encoded data removed]",
      "text/plain": [
       "<matplotlib.figure.Figure at 0x2221d0ee9b0>"
      ]
     },
     "metadata": {},
     "output_type": "display_data"
    }
   ],
   "source": [
    "pyplot.plot(test_neg)\n",
    "pyplot.plot(predictions_neg[:107], color='red')\n",
    "pyplot.show()"
   ]
  },
  {
   "cell_type": "code",
   "execution_count": null,
   "metadata": {
    "collapsed": true
   },
   "outputs": [],
   "source": []
  }
 ],
 "metadata": {
  "kernelspec": {
   "display_name": "Python 3",
   "language": "python",
   "name": "python3"
  },
  "language_info": {
   "codemirror_mode": {
    "name": "ipython",
    "version": 3
   },
   "file_extension": ".py",
   "mimetype": "text/x-python",
   "name": "python",
   "nbconvert_exporter": "python",
   "pygments_lexer": "ipython3",
   "version": "3.6.1"
  }
 },
 "nbformat": 4,
 "nbformat_minor": 2
}
